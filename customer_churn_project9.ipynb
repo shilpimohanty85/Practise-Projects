{
 "cells": [
  {
   "cell_type": "markdown",
   "id": "6d5a8260",
   "metadata": {},
   "source": [
    "# Evaluation Project - 9:Customer Churn Analysis\n",
    "\n",
    "\n"
   ]
  },
  {
   "cell_type": "markdown",
   "id": "7f0ccaaf",
   "metadata": {},
   "source": [
    "\n",
    "Problem Statement:\n",
    "\n",
    "Customer churn is when a company’s customers stop doing business with that company. Businesses are very keen on measuring churn because keeping an existing customer is far less expensive than acquiring a new customer. New business involves working leads through a sales funnel, using marketing and sales budgets to gain additional customers. Existing customers will often have a higher volume of service consumption and can generate additional customer referrals.\n",
    "\n",
    "Customer retention can be achieved with good customer service and products. But the most effective way for a company to prevent attrition of customers is to truly know them. The vast volumes of data collected about customers can be used to build churn prediction models. Knowing who is most likely to defect means that a company can prioritise focused marketing efforts on that subset of their customer base.\n",
    "\n",
    "Preventing customer churn is critically important to the telecommunications sector, as the barriers to entry for switching services are so low. \n",
    "\n",
    "OBJECTIVE:To build customer data from IBM Sample Data Sets with the aim of building and comparing several customer churn prediction models. \n",
    "\n",
    "Target Varibale is churn which is given in binary form so this will be a classification problem. "
   ]
  },
  {
   "cell_type": "code",
   "execution_count": 103,
   "id": "d592d0c8",
   "metadata": {},
   "outputs": [],
   "source": [
    "#loading the required libraries\n",
    "#importing all the necessary libraries\n",
    "import warnings\n",
    "warnings.simplefilter(\"ignore\")\n",
    "warnings.filterwarnings(\"ignore\")\n",
    "import joblib\n",
    "\n",
    "import pandas as pd\n",
    "import numpy as np\n",
    "import seaborn as sns\n",
    "import matplotlib.pyplot as plt\n",
    "%matplotlib inline\n",
    "from scipy.stats import zscore\n",
    "\n",
    "from imblearn.over_sampling import SMOTE\n",
    "from sklearn.preprocessing import LabelEncoder\n",
    "from sklearn.preprocessing import OrdinalEncoder\n",
    "from sklearn.preprocessing import StandardScaler\n",
    "from sklearn.model_selection import train_test_split\n",
    "from sklearn.linear_model import LogisticRegression\n",
    "from sklearn.svm import SVC\n",
    "from sklearn.tree import DecisionTreeClassifier\n",
    "from sklearn.ensemble import RandomForestClassifier\n",
    "\n",
    "from sklearn import metrics\n",
    "from sklearn.metrics import classification_report\n",
    "from sklearn.metrics import accuracy_score\n",
    "from sklearn.model_selection import cross_val_score\n",
    "from sklearn.model_selection import GridSearchCV"
   ]
  },
  {
   "cell_type": "code",
   "execution_count": 2,
   "id": "244d77d4",
   "metadata": {},
   "outputs": [],
   "source": [
    "#code for maximise rows ,columns,width,frame\n",
    "pd.set_option('display.max_rows', 500)\n",
    "pd.set_option('display.max_columns', 500)\n",
    "pd.set_option('display.width', 1000)\n",
    "pd.set_option('display.expand_frame_repr', False)"
   ]
  },
  {
   "cell_type": "code",
   "execution_count": 3,
   "id": "635f6784",
   "metadata": {},
   "outputs": [
    {
     "data": {
      "text/html": [
       "<div>\n",
       "<style scoped>\n",
       "    .dataframe tbody tr th:only-of-type {\n",
       "        vertical-align: middle;\n",
       "    }\n",
       "\n",
       "    .dataframe tbody tr th {\n",
       "        vertical-align: top;\n",
       "    }\n",
       "\n",
       "    .dataframe thead th {\n",
       "        text-align: right;\n",
       "    }\n",
       "</style>\n",
       "<table border=\"1\" class=\"dataframe\">\n",
       "  <thead>\n",
       "    <tr style=\"text-align: right;\">\n",
       "      <th></th>\n",
       "      <th>customerID</th>\n",
       "      <th>gender</th>\n",
       "      <th>SeniorCitizen</th>\n",
       "      <th>Partner</th>\n",
       "      <th>Dependents</th>\n",
       "      <th>tenure</th>\n",
       "      <th>PhoneService</th>\n",
       "      <th>MultipleLines</th>\n",
       "      <th>InternetService</th>\n",
       "      <th>OnlineSecurity</th>\n",
       "      <th>OnlineBackup</th>\n",
       "      <th>DeviceProtection</th>\n",
       "      <th>TechSupport</th>\n",
       "      <th>StreamingTV</th>\n",
       "      <th>StreamingMovies</th>\n",
       "      <th>Contract</th>\n",
       "      <th>PaperlessBilling</th>\n",
       "      <th>PaymentMethod</th>\n",
       "      <th>MonthlyCharges</th>\n",
       "      <th>TotalCharges</th>\n",
       "      <th>Churn</th>\n",
       "    </tr>\n",
       "  </thead>\n",
       "  <tbody>\n",
       "    <tr>\n",
       "      <th>0</th>\n",
       "      <td>7590-VHVEG</td>\n",
       "      <td>Female</td>\n",
       "      <td>0</td>\n",
       "      <td>Yes</td>\n",
       "      <td>No</td>\n",
       "      <td>1</td>\n",
       "      <td>No</td>\n",
       "      <td>No phone service</td>\n",
       "      <td>DSL</td>\n",
       "      <td>No</td>\n",
       "      <td>Yes</td>\n",
       "      <td>No</td>\n",
       "      <td>No</td>\n",
       "      <td>No</td>\n",
       "      <td>No</td>\n",
       "      <td>Month-to-month</td>\n",
       "      <td>Yes</td>\n",
       "      <td>Electronic check</td>\n",
       "      <td>29.85</td>\n",
       "      <td>29.85</td>\n",
       "      <td>No</td>\n",
       "    </tr>\n",
       "    <tr>\n",
       "      <th>1</th>\n",
       "      <td>5575-GNVDE</td>\n",
       "      <td>Male</td>\n",
       "      <td>0</td>\n",
       "      <td>No</td>\n",
       "      <td>No</td>\n",
       "      <td>34</td>\n",
       "      <td>Yes</td>\n",
       "      <td>No</td>\n",
       "      <td>DSL</td>\n",
       "      <td>Yes</td>\n",
       "      <td>No</td>\n",
       "      <td>Yes</td>\n",
       "      <td>No</td>\n",
       "      <td>No</td>\n",
       "      <td>No</td>\n",
       "      <td>One year</td>\n",
       "      <td>No</td>\n",
       "      <td>Mailed check</td>\n",
       "      <td>56.95</td>\n",
       "      <td>1889.5</td>\n",
       "      <td>No</td>\n",
       "    </tr>\n",
       "    <tr>\n",
       "      <th>2</th>\n",
       "      <td>3668-QPYBK</td>\n",
       "      <td>Male</td>\n",
       "      <td>0</td>\n",
       "      <td>No</td>\n",
       "      <td>No</td>\n",
       "      <td>2</td>\n",
       "      <td>Yes</td>\n",
       "      <td>No</td>\n",
       "      <td>DSL</td>\n",
       "      <td>Yes</td>\n",
       "      <td>Yes</td>\n",
       "      <td>No</td>\n",
       "      <td>No</td>\n",
       "      <td>No</td>\n",
       "      <td>No</td>\n",
       "      <td>Month-to-month</td>\n",
       "      <td>Yes</td>\n",
       "      <td>Mailed check</td>\n",
       "      <td>53.85</td>\n",
       "      <td>108.15</td>\n",
       "      <td>Yes</td>\n",
       "    </tr>\n",
       "    <tr>\n",
       "      <th>3</th>\n",
       "      <td>7795-CFOCW</td>\n",
       "      <td>Male</td>\n",
       "      <td>0</td>\n",
       "      <td>No</td>\n",
       "      <td>No</td>\n",
       "      <td>45</td>\n",
       "      <td>No</td>\n",
       "      <td>No phone service</td>\n",
       "      <td>DSL</td>\n",
       "      <td>Yes</td>\n",
       "      <td>No</td>\n",
       "      <td>Yes</td>\n",
       "      <td>Yes</td>\n",
       "      <td>No</td>\n",
       "      <td>No</td>\n",
       "      <td>One year</td>\n",
       "      <td>No</td>\n",
       "      <td>Bank transfer (automatic)</td>\n",
       "      <td>42.30</td>\n",
       "      <td>1840.75</td>\n",
       "      <td>No</td>\n",
       "    </tr>\n",
       "    <tr>\n",
       "      <th>4</th>\n",
       "      <td>9237-HQITU</td>\n",
       "      <td>Female</td>\n",
       "      <td>0</td>\n",
       "      <td>No</td>\n",
       "      <td>No</td>\n",
       "      <td>2</td>\n",
       "      <td>Yes</td>\n",
       "      <td>No</td>\n",
       "      <td>Fiber optic</td>\n",
       "      <td>No</td>\n",
       "      <td>No</td>\n",
       "      <td>No</td>\n",
       "      <td>No</td>\n",
       "      <td>No</td>\n",
       "      <td>No</td>\n",
       "      <td>Month-to-month</td>\n",
       "      <td>Yes</td>\n",
       "      <td>Electronic check</td>\n",
       "      <td>70.70</td>\n",
       "      <td>151.65</td>\n",
       "      <td>Yes</td>\n",
       "    </tr>\n",
       "    <tr>\n",
       "      <th>...</th>\n",
       "      <td>...</td>\n",
       "      <td>...</td>\n",
       "      <td>...</td>\n",
       "      <td>...</td>\n",
       "      <td>...</td>\n",
       "      <td>...</td>\n",
       "      <td>...</td>\n",
       "      <td>...</td>\n",
       "      <td>...</td>\n",
       "      <td>...</td>\n",
       "      <td>...</td>\n",
       "      <td>...</td>\n",
       "      <td>...</td>\n",
       "      <td>...</td>\n",
       "      <td>...</td>\n",
       "      <td>...</td>\n",
       "      <td>...</td>\n",
       "      <td>...</td>\n",
       "      <td>...</td>\n",
       "      <td>...</td>\n",
       "      <td>...</td>\n",
       "    </tr>\n",
       "    <tr>\n",
       "      <th>7038</th>\n",
       "      <td>6840-RESVB</td>\n",
       "      <td>Male</td>\n",
       "      <td>0</td>\n",
       "      <td>Yes</td>\n",
       "      <td>Yes</td>\n",
       "      <td>24</td>\n",
       "      <td>Yes</td>\n",
       "      <td>Yes</td>\n",
       "      <td>DSL</td>\n",
       "      <td>Yes</td>\n",
       "      <td>No</td>\n",
       "      <td>Yes</td>\n",
       "      <td>Yes</td>\n",
       "      <td>Yes</td>\n",
       "      <td>Yes</td>\n",
       "      <td>One year</td>\n",
       "      <td>Yes</td>\n",
       "      <td>Mailed check</td>\n",
       "      <td>84.80</td>\n",
       "      <td>1990.5</td>\n",
       "      <td>No</td>\n",
       "    </tr>\n",
       "    <tr>\n",
       "      <th>7039</th>\n",
       "      <td>2234-XADUH</td>\n",
       "      <td>Female</td>\n",
       "      <td>0</td>\n",
       "      <td>Yes</td>\n",
       "      <td>Yes</td>\n",
       "      <td>72</td>\n",
       "      <td>Yes</td>\n",
       "      <td>Yes</td>\n",
       "      <td>Fiber optic</td>\n",
       "      <td>No</td>\n",
       "      <td>Yes</td>\n",
       "      <td>Yes</td>\n",
       "      <td>No</td>\n",
       "      <td>Yes</td>\n",
       "      <td>Yes</td>\n",
       "      <td>One year</td>\n",
       "      <td>Yes</td>\n",
       "      <td>Credit card (automatic)</td>\n",
       "      <td>103.20</td>\n",
       "      <td>7362.9</td>\n",
       "      <td>No</td>\n",
       "    </tr>\n",
       "    <tr>\n",
       "      <th>7040</th>\n",
       "      <td>4801-JZAZL</td>\n",
       "      <td>Female</td>\n",
       "      <td>0</td>\n",
       "      <td>Yes</td>\n",
       "      <td>Yes</td>\n",
       "      <td>11</td>\n",
       "      <td>No</td>\n",
       "      <td>No phone service</td>\n",
       "      <td>DSL</td>\n",
       "      <td>Yes</td>\n",
       "      <td>No</td>\n",
       "      <td>No</td>\n",
       "      <td>No</td>\n",
       "      <td>No</td>\n",
       "      <td>No</td>\n",
       "      <td>Month-to-month</td>\n",
       "      <td>Yes</td>\n",
       "      <td>Electronic check</td>\n",
       "      <td>29.60</td>\n",
       "      <td>346.45</td>\n",
       "      <td>No</td>\n",
       "    </tr>\n",
       "    <tr>\n",
       "      <th>7041</th>\n",
       "      <td>8361-LTMKD</td>\n",
       "      <td>Male</td>\n",
       "      <td>1</td>\n",
       "      <td>Yes</td>\n",
       "      <td>No</td>\n",
       "      <td>4</td>\n",
       "      <td>Yes</td>\n",
       "      <td>Yes</td>\n",
       "      <td>Fiber optic</td>\n",
       "      <td>No</td>\n",
       "      <td>No</td>\n",
       "      <td>No</td>\n",
       "      <td>No</td>\n",
       "      <td>No</td>\n",
       "      <td>No</td>\n",
       "      <td>Month-to-month</td>\n",
       "      <td>Yes</td>\n",
       "      <td>Mailed check</td>\n",
       "      <td>74.40</td>\n",
       "      <td>306.6</td>\n",
       "      <td>Yes</td>\n",
       "    </tr>\n",
       "    <tr>\n",
       "      <th>7042</th>\n",
       "      <td>3186-AJIEK</td>\n",
       "      <td>Male</td>\n",
       "      <td>0</td>\n",
       "      <td>No</td>\n",
       "      <td>No</td>\n",
       "      <td>66</td>\n",
       "      <td>Yes</td>\n",
       "      <td>No</td>\n",
       "      <td>Fiber optic</td>\n",
       "      <td>Yes</td>\n",
       "      <td>No</td>\n",
       "      <td>Yes</td>\n",
       "      <td>Yes</td>\n",
       "      <td>Yes</td>\n",
       "      <td>Yes</td>\n",
       "      <td>Two year</td>\n",
       "      <td>Yes</td>\n",
       "      <td>Bank transfer (automatic)</td>\n",
       "      <td>105.65</td>\n",
       "      <td>6844.5</td>\n",
       "      <td>No</td>\n",
       "    </tr>\n",
       "  </tbody>\n",
       "</table>\n",
       "<p>7043 rows × 21 columns</p>\n",
       "</div>"
      ],
      "text/plain": [
       "      customerID  gender  SeniorCitizen Partner Dependents  tenure PhoneService     MultipleLines InternetService OnlineSecurity OnlineBackup DeviceProtection TechSupport StreamingTV StreamingMovies        Contract PaperlessBilling              PaymentMethod  MonthlyCharges TotalCharges Churn\n",
       "0     7590-VHVEG  Female              0     Yes         No       1           No  No phone service             DSL             No          Yes               No          No          No              No  Month-to-month              Yes           Electronic check           29.85        29.85    No\n",
       "1     5575-GNVDE    Male              0      No         No      34          Yes                No             DSL            Yes           No              Yes          No          No              No        One year               No               Mailed check           56.95       1889.5    No\n",
       "2     3668-QPYBK    Male              0      No         No       2          Yes                No             DSL            Yes          Yes               No          No          No              No  Month-to-month              Yes               Mailed check           53.85       108.15   Yes\n",
       "3     7795-CFOCW    Male              0      No         No      45           No  No phone service             DSL            Yes           No              Yes         Yes          No              No        One year               No  Bank transfer (automatic)           42.30      1840.75    No\n",
       "4     9237-HQITU  Female              0      No         No       2          Yes                No     Fiber optic             No           No               No          No          No              No  Month-to-month              Yes           Electronic check           70.70       151.65   Yes\n",
       "...          ...     ...            ...     ...        ...     ...          ...               ...             ...            ...          ...              ...         ...         ...             ...             ...              ...                        ...             ...          ...   ...\n",
       "7038  6840-RESVB    Male              0     Yes        Yes      24          Yes               Yes             DSL            Yes           No              Yes         Yes         Yes             Yes        One year              Yes               Mailed check           84.80       1990.5    No\n",
       "7039  2234-XADUH  Female              0     Yes        Yes      72          Yes               Yes     Fiber optic             No          Yes              Yes          No         Yes             Yes        One year              Yes    Credit card (automatic)          103.20       7362.9    No\n",
       "7040  4801-JZAZL  Female              0     Yes        Yes      11           No  No phone service             DSL            Yes           No               No          No          No              No  Month-to-month              Yes           Electronic check           29.60       346.45    No\n",
       "7041  8361-LTMKD    Male              1     Yes         No       4          Yes               Yes     Fiber optic             No           No               No          No          No              No  Month-to-month              Yes               Mailed check           74.40        306.6   Yes\n",
       "7042  3186-AJIEK    Male              0      No         No      66          Yes                No     Fiber optic            Yes           No              Yes         Yes         Yes             Yes        Two year              Yes  Bank transfer (automatic)          105.65       6844.5    No\n",
       "\n",
       "[7043 rows x 21 columns]"
      ]
     },
     "execution_count": 3,
     "metadata": {},
     "output_type": "execute_result"
    }
   ],
   "source": [
    "import pandas as pd\n",
    "df=pd.read_csv(\"customer_churn.csv\")  \n",
    "df"
   ]
  },
  {
   "cell_type": "markdown",
   "id": "d93643a5",
   "metadata": {},
   "source": [
    "Observation: \n",
    "1.There are 7043 rows and 21 columns.\n",
    "\n",
    "2.We will be predicting churn which is  our objective which is a categorical column and binary form so this will be classification problem."
   ]
  },
  {
   "cell_type": "code",
   "execution_count": 4,
   "id": "24d9ac05",
   "metadata": {},
   "outputs": [
    {
     "data": {
      "text/html": [
       "<div>\n",
       "<style scoped>\n",
       "    .dataframe tbody tr th:only-of-type {\n",
       "        vertical-align: middle;\n",
       "    }\n",
       "\n",
       "    .dataframe tbody tr th {\n",
       "        vertical-align: top;\n",
       "    }\n",
       "\n",
       "    .dataframe thead th {\n",
       "        text-align: right;\n",
       "    }\n",
       "</style>\n",
       "<table border=\"1\" class=\"dataframe\">\n",
       "  <thead>\n",
       "    <tr style=\"text-align: right;\">\n",
       "      <th></th>\n",
       "      <th>customerID</th>\n",
       "      <th>gender</th>\n",
       "      <th>SeniorCitizen</th>\n",
       "      <th>Partner</th>\n",
       "      <th>Dependents</th>\n",
       "      <th>tenure</th>\n",
       "      <th>PhoneService</th>\n",
       "      <th>MultipleLines</th>\n",
       "      <th>InternetService</th>\n",
       "      <th>OnlineSecurity</th>\n",
       "      <th>OnlineBackup</th>\n",
       "      <th>DeviceProtection</th>\n",
       "      <th>TechSupport</th>\n",
       "      <th>StreamingTV</th>\n",
       "      <th>StreamingMovies</th>\n",
       "      <th>Contract</th>\n",
       "      <th>PaperlessBilling</th>\n",
       "      <th>PaymentMethod</th>\n",
       "      <th>MonthlyCharges</th>\n",
       "      <th>TotalCharges</th>\n",
       "      <th>Churn</th>\n",
       "    </tr>\n",
       "  </thead>\n",
       "  <tbody>\n",
       "    <tr>\n",
       "      <th>0</th>\n",
       "      <td>7590-VHVEG</td>\n",
       "      <td>Female</td>\n",
       "      <td>0</td>\n",
       "      <td>Yes</td>\n",
       "      <td>No</td>\n",
       "      <td>1</td>\n",
       "      <td>No</td>\n",
       "      <td>No phone service</td>\n",
       "      <td>DSL</td>\n",
       "      <td>No</td>\n",
       "      <td>Yes</td>\n",
       "      <td>No</td>\n",
       "      <td>No</td>\n",
       "      <td>No</td>\n",
       "      <td>No</td>\n",
       "      <td>Month-to-month</td>\n",
       "      <td>Yes</td>\n",
       "      <td>Electronic check</td>\n",
       "      <td>29.85</td>\n",
       "      <td>29.85</td>\n",
       "      <td>No</td>\n",
       "    </tr>\n",
       "    <tr>\n",
       "      <th>1</th>\n",
       "      <td>5575-GNVDE</td>\n",
       "      <td>Male</td>\n",
       "      <td>0</td>\n",
       "      <td>No</td>\n",
       "      <td>No</td>\n",
       "      <td>34</td>\n",
       "      <td>Yes</td>\n",
       "      <td>No</td>\n",
       "      <td>DSL</td>\n",
       "      <td>Yes</td>\n",
       "      <td>No</td>\n",
       "      <td>Yes</td>\n",
       "      <td>No</td>\n",
       "      <td>No</td>\n",
       "      <td>No</td>\n",
       "      <td>One year</td>\n",
       "      <td>No</td>\n",
       "      <td>Mailed check</td>\n",
       "      <td>56.95</td>\n",
       "      <td>1889.5</td>\n",
       "      <td>No</td>\n",
       "    </tr>\n",
       "    <tr>\n",
       "      <th>2</th>\n",
       "      <td>3668-QPYBK</td>\n",
       "      <td>Male</td>\n",
       "      <td>0</td>\n",
       "      <td>No</td>\n",
       "      <td>No</td>\n",
       "      <td>2</td>\n",
       "      <td>Yes</td>\n",
       "      <td>No</td>\n",
       "      <td>DSL</td>\n",
       "      <td>Yes</td>\n",
       "      <td>Yes</td>\n",
       "      <td>No</td>\n",
       "      <td>No</td>\n",
       "      <td>No</td>\n",
       "      <td>No</td>\n",
       "      <td>Month-to-month</td>\n",
       "      <td>Yes</td>\n",
       "      <td>Mailed check</td>\n",
       "      <td>53.85</td>\n",
       "      <td>108.15</td>\n",
       "      <td>Yes</td>\n",
       "    </tr>\n",
       "    <tr>\n",
       "      <th>3</th>\n",
       "      <td>7795-CFOCW</td>\n",
       "      <td>Male</td>\n",
       "      <td>0</td>\n",
       "      <td>No</td>\n",
       "      <td>No</td>\n",
       "      <td>45</td>\n",
       "      <td>No</td>\n",
       "      <td>No phone service</td>\n",
       "      <td>DSL</td>\n",
       "      <td>Yes</td>\n",
       "      <td>No</td>\n",
       "      <td>Yes</td>\n",
       "      <td>Yes</td>\n",
       "      <td>No</td>\n",
       "      <td>No</td>\n",
       "      <td>One year</td>\n",
       "      <td>No</td>\n",
       "      <td>Bank transfer (automatic)</td>\n",
       "      <td>42.30</td>\n",
       "      <td>1840.75</td>\n",
       "      <td>No</td>\n",
       "    </tr>\n",
       "    <tr>\n",
       "      <th>4</th>\n",
       "      <td>9237-HQITU</td>\n",
       "      <td>Female</td>\n",
       "      <td>0</td>\n",
       "      <td>No</td>\n",
       "      <td>No</td>\n",
       "      <td>2</td>\n",
       "      <td>Yes</td>\n",
       "      <td>No</td>\n",
       "      <td>Fiber optic</td>\n",
       "      <td>No</td>\n",
       "      <td>No</td>\n",
       "      <td>No</td>\n",
       "      <td>No</td>\n",
       "      <td>No</td>\n",
       "      <td>No</td>\n",
       "      <td>Month-to-month</td>\n",
       "      <td>Yes</td>\n",
       "      <td>Electronic check</td>\n",
       "      <td>70.70</td>\n",
       "      <td>151.65</td>\n",
       "      <td>Yes</td>\n",
       "    </tr>\n",
       "  </tbody>\n",
       "</table>\n",
       "</div>"
      ],
      "text/plain": [
       "   customerID  gender  SeniorCitizen Partner Dependents  tenure PhoneService     MultipleLines InternetService OnlineSecurity OnlineBackup DeviceProtection TechSupport StreamingTV StreamingMovies        Contract PaperlessBilling              PaymentMethod  MonthlyCharges TotalCharges Churn\n",
       "0  7590-VHVEG  Female              0     Yes         No       1           No  No phone service             DSL             No          Yes               No          No          No              No  Month-to-month              Yes           Electronic check           29.85        29.85    No\n",
       "1  5575-GNVDE    Male              0      No         No      34          Yes                No             DSL            Yes           No              Yes          No          No              No        One year               No               Mailed check           56.95       1889.5    No\n",
       "2  3668-QPYBK    Male              0      No         No       2          Yes                No             DSL            Yes          Yes               No          No          No              No  Month-to-month              Yes               Mailed check           53.85       108.15   Yes\n",
       "3  7795-CFOCW    Male              0      No         No      45           No  No phone service             DSL            Yes           No              Yes         Yes          No              No        One year               No  Bank transfer (automatic)           42.30      1840.75    No\n",
       "4  9237-HQITU  Female              0      No         No       2          Yes                No     Fiber optic             No           No               No          No          No              No  Month-to-month              Yes           Electronic check           70.70       151.65   Yes"
      ]
     },
     "execution_count": 4,
     "metadata": {},
     "output_type": "execute_result"
    }
   ],
   "source": [
    "df.head()  #Checking out the top 5 rows of the dataset"
   ]
  },
  {
   "cell_type": "code",
   "execution_count": 5,
   "id": "30020735",
   "metadata": {},
   "outputs": [
    {
     "data": {
      "text/plain": [
       "(7043, 21)"
      ]
     },
     "execution_count": 5,
     "metadata": {},
     "output_type": "execute_result"
    }
   ],
   "source": [
    "df.shape #checking dimension of dataset"
   ]
  },
  {
   "cell_type": "code",
   "execution_count": 6,
   "id": "28dc64bc",
   "metadata": {},
   "outputs": [
    {
     "data": {
      "text/plain": [
       "customerID           object\n",
       "gender               object\n",
       "SeniorCitizen         int64\n",
       "Partner              object\n",
       "Dependents           object\n",
       "tenure                int64\n",
       "PhoneService         object\n",
       "MultipleLines        object\n",
       "InternetService      object\n",
       "OnlineSecurity       object\n",
       "OnlineBackup         object\n",
       "DeviceProtection     object\n",
       "TechSupport          object\n",
       "StreamingTV          object\n",
       "StreamingMovies      object\n",
       "Contract             object\n",
       "PaperlessBilling     object\n",
       "PaymentMethod        object\n",
       "MonthlyCharges      float64\n",
       "TotalCharges         object\n",
       "Churn                object\n",
       "dtype: object"
      ]
     },
     "execution_count": 6,
     "metadata": {},
     "output_type": "execute_result"
    }
   ],
   "source": [
    "df.dtypes #checking datatypes"
   ]
  },
  {
   "cell_type": "markdown",
   "id": "cac80536",
   "metadata": {},
   "source": [
    "Thus we see that there are 18 catogorical column ,2 integer datatype and one float datatype."
   ]
  },
  {
   "cell_type": "code",
   "execution_count": 7,
   "id": "5ed4ab95",
   "metadata": {},
   "outputs": [
    {
     "data": {
      "text/plain": [
       "Index(['customerID', 'gender', 'SeniorCitizen', 'Partner', 'Dependents', 'tenure', 'PhoneService', 'MultipleLines', 'InternetService', 'OnlineSecurity', 'OnlineBackup', 'DeviceProtection', 'TechSupport', 'StreamingTV', 'StreamingMovies', 'Contract', 'PaperlessBilling', 'PaymentMethod', 'MonthlyCharges', 'TotalCharges', 'Churn'], dtype='object')"
      ]
     },
     "execution_count": 7,
     "metadata": {},
     "output_type": "execute_result"
    }
   ],
   "source": [
    "df.columns #names of 21 features/columns names"
   ]
  },
  {
   "cell_type": "code",
   "execution_count": 8,
   "id": "e8b689d7",
   "metadata": {},
   "outputs": [],
   "source": [
    "df.drop((\"customerID\"),axis=1,inplace=True)"
   ]
  },
  {
   "cell_type": "markdown",
   "id": "5bf8ad0b",
   "metadata": {},
   "source": [
    ".CustomerId is an identifier and irrelevant with respect todata analysis.so we will drop customerid column."
   ]
  },
  {
   "cell_type": "markdown",
   "id": "cd098ae7",
   "metadata": {},
   "source": [
    "# Separating obj and non_obj data into separate data_frame"
   ]
  },
  {
   "cell_type": "code",
   "execution_count": 9,
   "id": "495fda31",
   "metadata": {},
   "outputs": [],
   "source": [
    "non_obj = df.select_dtypes(exclude ='object')\n",
    "obj=df.select_dtypes(include='object')"
   ]
  },
  {
   "cell_type": "code",
   "execution_count": 10,
   "id": "6da6efd4",
   "metadata": {},
   "outputs": [
    {
     "data": {
      "text/plain": [
       "['SeniorCitizen', 'tenure', 'MonthlyCharges']"
      ]
     },
     "execution_count": 10,
     "metadata": {},
     "output_type": "execute_result"
    }
   ],
   "source": [
    "#printing the non_obj column\n",
    "nonobj_col = non_obj.columns.tolist()\n",
    "nonobj_col"
   ]
  },
  {
   "cell_type": "code",
   "execution_count": 11,
   "id": "210b1a59",
   "metadata": {},
   "outputs": [
    {
     "data": {
      "text/plain": [
       "['gender',\n",
       " 'Partner',\n",
       " 'Dependents',\n",
       " 'PhoneService',\n",
       " 'MultipleLines',\n",
       " 'InternetService',\n",
       " 'OnlineSecurity',\n",
       " 'OnlineBackup',\n",
       " 'DeviceProtection',\n",
       " 'TechSupport',\n",
       " 'StreamingTV',\n",
       " 'StreamingMovies',\n",
       " 'Contract',\n",
       " 'PaperlessBilling',\n",
       " 'PaymentMethod',\n",
       " 'TotalCharges',\n",
       " 'Churn']"
      ]
     },
     "execution_count": 11,
     "metadata": {},
     "output_type": "execute_result"
    }
   ],
   "source": [
    "#printing the obj_column\n",
    "obj_col = obj.columns.tolist()\n",
    "obj_col"
   ]
  },
  {
   "cell_type": "markdown",
   "id": "dd86bb3e",
   "metadata": {},
   "source": [
    "Thus we have separated the object datatype column names and numeric data type column names. We will be checking outliers and skewness only in continuous column not in categorical column.This makes our job easy ."
   ]
  },
  {
   "cell_type": "code",
   "execution_count": 12,
   "id": "c8596722",
   "metadata": {},
   "outputs": [
    {
     "data": {
      "text/html": [
       "<div>\n",
       "<style scoped>\n",
       "    .dataframe tbody tr th:only-of-type {\n",
       "        vertical-align: middle;\n",
       "    }\n",
       "\n",
       "    .dataframe tbody tr th {\n",
       "        vertical-align: top;\n",
       "    }\n",
       "\n",
       "    .dataframe thead th {\n",
       "        text-align: right;\n",
       "    }\n",
       "</style>\n",
       "<table border=\"1\" class=\"dataframe\">\n",
       "  <thead>\n",
       "    <tr style=\"text-align: right;\">\n",
       "      <th></th>\n",
       "      <th>gender</th>\n",
       "      <th>Partner</th>\n",
       "      <th>Dependents</th>\n",
       "      <th>PhoneService</th>\n",
       "      <th>MultipleLines</th>\n",
       "      <th>InternetService</th>\n",
       "      <th>OnlineSecurity</th>\n",
       "      <th>OnlineBackup</th>\n",
       "      <th>DeviceProtection</th>\n",
       "      <th>TechSupport</th>\n",
       "      <th>StreamingTV</th>\n",
       "      <th>StreamingMovies</th>\n",
       "      <th>Contract</th>\n",
       "      <th>PaperlessBilling</th>\n",
       "      <th>PaymentMethod</th>\n",
       "      <th>TotalCharges</th>\n",
       "      <th>Churn</th>\n",
       "    </tr>\n",
       "  </thead>\n",
       "  <tbody>\n",
       "    <tr>\n",
       "      <th>count</th>\n",
       "      <td>7043</td>\n",
       "      <td>7043</td>\n",
       "      <td>7043</td>\n",
       "      <td>7043</td>\n",
       "      <td>7043</td>\n",
       "      <td>7043</td>\n",
       "      <td>7043</td>\n",
       "      <td>7043</td>\n",
       "      <td>7043</td>\n",
       "      <td>7043</td>\n",
       "      <td>7043</td>\n",
       "      <td>7043</td>\n",
       "      <td>7043</td>\n",
       "      <td>7043</td>\n",
       "      <td>7043</td>\n",
       "      <td>7043</td>\n",
       "      <td>7043</td>\n",
       "    </tr>\n",
       "    <tr>\n",
       "      <th>unique</th>\n",
       "      <td>2</td>\n",
       "      <td>2</td>\n",
       "      <td>2</td>\n",
       "      <td>2</td>\n",
       "      <td>3</td>\n",
       "      <td>3</td>\n",
       "      <td>3</td>\n",
       "      <td>3</td>\n",
       "      <td>3</td>\n",
       "      <td>3</td>\n",
       "      <td>3</td>\n",
       "      <td>3</td>\n",
       "      <td>3</td>\n",
       "      <td>2</td>\n",
       "      <td>4</td>\n",
       "      <td>6531</td>\n",
       "      <td>2</td>\n",
       "    </tr>\n",
       "    <tr>\n",
       "      <th>top</th>\n",
       "      <td>Male</td>\n",
       "      <td>No</td>\n",
       "      <td>No</td>\n",
       "      <td>Yes</td>\n",
       "      <td>No</td>\n",
       "      <td>Fiber optic</td>\n",
       "      <td>No</td>\n",
       "      <td>No</td>\n",
       "      <td>No</td>\n",
       "      <td>No</td>\n",
       "      <td>No</td>\n",
       "      <td>No</td>\n",
       "      <td>Month-to-month</td>\n",
       "      <td>Yes</td>\n",
       "      <td>Electronic check</td>\n",
       "      <td></td>\n",
       "      <td>No</td>\n",
       "    </tr>\n",
       "    <tr>\n",
       "      <th>freq</th>\n",
       "      <td>3555</td>\n",
       "      <td>3641</td>\n",
       "      <td>4933</td>\n",
       "      <td>6361</td>\n",
       "      <td>3390</td>\n",
       "      <td>3096</td>\n",
       "      <td>3498</td>\n",
       "      <td>3088</td>\n",
       "      <td>3095</td>\n",
       "      <td>3473</td>\n",
       "      <td>2810</td>\n",
       "      <td>2785</td>\n",
       "      <td>3875</td>\n",
       "      <td>4171</td>\n",
       "      <td>2365</td>\n",
       "      <td>11</td>\n",
       "      <td>5174</td>\n",
       "    </tr>\n",
       "  </tbody>\n",
       "</table>\n",
       "</div>"
      ],
      "text/plain": [
       "       gender Partner Dependents PhoneService MultipleLines InternetService OnlineSecurity OnlineBackup DeviceProtection TechSupport StreamingTV StreamingMovies        Contract PaperlessBilling     PaymentMethod TotalCharges Churn\n",
       "count    7043    7043       7043         7043          7043            7043           7043         7043             7043        7043        7043            7043            7043             7043              7043         7043  7043\n",
       "unique      2       2          2            2             3               3              3            3                3           3           3               3               3                2                 4         6531     2\n",
       "top      Male      No         No          Yes            No     Fiber optic             No           No               No          No          No              No  Month-to-month              Yes  Electronic check                 No\n",
       "freq     3555    3641       4933         6361          3390            3096           3498         3088             3095        3473        2810            2785            3875             4171              2365           11  5174"
      ]
     },
     "execution_count": 12,
     "metadata": {},
     "output_type": "execute_result"
    }
   ],
   "source": [
    "# description of the categorcal features\n",
    "df.describe(include=np.object)"
   ]
  },
  {
   "cell_type": "markdown",
   "id": "8116058e",
   "metadata": {},
   "source": [
    "Thus we see:\n",
    "1There is no missing value from count.\n",
    "\n",
    "2.Thus gender has two distinct value,there are 2 disnct partners,2 distinct dependents and similarly others.\n",
    "\n",
    "3.In the total charges column,we can see white space which is like null value,we will replace this with null value. "
   ]
  },
  {
   "cell_type": "code",
   "execution_count": 13,
   "id": "4c9fb892",
   "metadata": {},
   "outputs": [
    {
     "data": {
      "text/html": [
       "<div>\n",
       "<style scoped>\n",
       "    .dataframe tbody tr th:only-of-type {\n",
       "        vertical-align: middle;\n",
       "    }\n",
       "\n",
       "    .dataframe tbody tr th {\n",
       "        vertical-align: top;\n",
       "    }\n",
       "\n",
       "    .dataframe thead th {\n",
       "        text-align: right;\n",
       "    }\n",
       "</style>\n",
       "<table border=\"1\" class=\"dataframe\">\n",
       "  <thead>\n",
       "    <tr style=\"text-align: right;\">\n",
       "      <th></th>\n",
       "      <th>SeniorCitizen</th>\n",
       "      <th>tenure</th>\n",
       "      <th>MonthlyCharges</th>\n",
       "    </tr>\n",
       "  </thead>\n",
       "  <tbody>\n",
       "    <tr>\n",
       "      <th>count</th>\n",
       "      <td>7043.000000</td>\n",
       "      <td>7043.000000</td>\n",
       "      <td>7043.000000</td>\n",
       "    </tr>\n",
       "    <tr>\n",
       "      <th>mean</th>\n",
       "      <td>0.162147</td>\n",
       "      <td>32.371149</td>\n",
       "      <td>64.761692</td>\n",
       "    </tr>\n",
       "    <tr>\n",
       "      <th>std</th>\n",
       "      <td>0.368612</td>\n",
       "      <td>24.559481</td>\n",
       "      <td>30.090047</td>\n",
       "    </tr>\n",
       "    <tr>\n",
       "      <th>min</th>\n",
       "      <td>0.000000</td>\n",
       "      <td>0.000000</td>\n",
       "      <td>18.250000</td>\n",
       "    </tr>\n",
       "    <tr>\n",
       "      <th>25%</th>\n",
       "      <td>0.000000</td>\n",
       "      <td>9.000000</td>\n",
       "      <td>35.500000</td>\n",
       "    </tr>\n",
       "    <tr>\n",
       "      <th>50%</th>\n",
       "      <td>0.000000</td>\n",
       "      <td>29.000000</td>\n",
       "      <td>70.350000</td>\n",
       "    </tr>\n",
       "    <tr>\n",
       "      <th>75%</th>\n",
       "      <td>0.000000</td>\n",
       "      <td>55.000000</td>\n",
       "      <td>89.850000</td>\n",
       "    </tr>\n",
       "    <tr>\n",
       "      <th>max</th>\n",
       "      <td>1.000000</td>\n",
       "      <td>72.000000</td>\n",
       "      <td>118.750000</td>\n",
       "    </tr>\n",
       "  </tbody>\n",
       "</table>\n",
       "</div>"
      ],
      "text/plain": [
       "       SeniorCitizen       tenure  MonthlyCharges\n",
       "count    7043.000000  7043.000000     7043.000000\n",
       "mean        0.162147    32.371149       64.761692\n",
       "std         0.368612    24.559481       30.090047\n",
       "min         0.000000     0.000000       18.250000\n",
       "25%         0.000000     9.000000       35.500000\n",
       "50%         0.000000    29.000000       70.350000\n",
       "75%         0.000000    55.000000       89.850000\n",
       "max         1.000000    72.000000      118.750000"
      ]
     },
     "execution_count": 13,
     "metadata": {},
     "output_type": "execute_result"
    }
   ],
   "source": [
    "# description of  numerical feautres description using T as Transpose to be more readable and identifiable:\n",
    "df.describe()"
   ]
  },
  {
   "cell_type": "markdown",
   "id": "3b2c1c50",
   "metadata": {},
   "source": [
    "1.No missing value is present.\n",
    "\n",
    "2.Skewness present in tenure and monthly charges as mean is not equal to median.\n",
    "\n",
    "3.High gap between max and 75% percentile represents there is presence of outlier.\n",
    "\n",
    "4.Standard deviation is present in tenure and monthly charges."
   ]
  },
  {
   "cell_type": "code",
   "execution_count": 14,
   "id": "e8712346",
   "metadata": {},
   "outputs": [
    {
     "data": {
      "text/plain": [
       "gender              0\n",
       "SeniorCitizen       0\n",
       "Partner             0\n",
       "Dependents          0\n",
       "tenure              0\n",
       "PhoneService        0\n",
       "MultipleLines       0\n",
       "InternetService     0\n",
       "OnlineSecurity      0\n",
       "OnlineBackup        0\n",
       "DeviceProtection    0\n",
       "TechSupport         0\n",
       "StreamingTV         0\n",
       "StreamingMovies     0\n",
       "Contract            0\n",
       "PaperlessBilling    0\n",
       "PaymentMethod       0\n",
       "MonthlyCharges      0\n",
       "TotalCharges        0\n",
       "Churn               0\n",
       "dtype: int64"
      ]
     },
     "execution_count": 14,
     "metadata": {},
     "output_type": "execute_result"
    }
   ],
   "source": [
    "df.isnull().sum() #No null values are present"
   ]
  },
  {
   "cell_type": "code",
   "execution_count": 15,
   "id": "758a3ab4",
   "metadata": {},
   "outputs": [
    {
     "data": {
      "text/plain": [
       "<AxesSubplot:>"
      ]
     },
     "execution_count": 15,
     "metadata": {},
     "output_type": "execute_result"
    },
    {
     "data": {
      "image/png": "[encoded data removed]",
      "text/plain": [
       "<Figure size 432x288 with 2 Axes>"
      ]
     },
     "metadata": {
      "needs_background": "light"
     },
     "output_type": "display_data"
    }
   ],
   "source": [
    "#Missing value checking using heatmap\n",
    "sns.heatmap(df.isnull()) "
   ]
  },
  {
   "cell_type": "code",
   "execution_count": 16,
   "id": "6889df2b",
   "metadata": {},
   "outputs": [
    {
     "data": {
      "text/plain": [
       "22"
      ]
     },
     "execution_count": 16,
     "metadata": {},
     "output_type": "execute_result"
    }
   ],
   "source": [
    "#Checking of duplicated values\n",
    "df.duplicated().sum()"
   ]
  },
  {
   "cell_type": "code",
   "execution_count": 17,
   "id": "9cfb0f54",
   "metadata": {},
   "outputs": [],
   "source": [
    "df.drop_duplicates(inplace=True)"
   ]
  },
  {
   "cell_type": "markdown",
   "id": "4c776612",
   "metadata": {},
   "source": [
    "Thus dropping the duplicated values"
   ]
  },
  {
   "cell_type": "code",
   "execution_count": 18,
   "id": "3c39c696",
   "metadata": {},
   "outputs": [
    {
     "data": {
      "text/plain": [
       "gender                 2\n",
       "SeniorCitizen          2\n",
       "Partner                2\n",
       "Dependents             2\n",
       "tenure                73\n",
       "PhoneService           2\n",
       "MultipleLines          3\n",
       "InternetService        3\n",
       "OnlineSecurity         3\n",
       "OnlineBackup           3\n",
       "DeviceProtection       3\n",
       "TechSupport            3\n",
       "StreamingTV            3\n",
       "StreamingMovies        3\n",
       "Contract               3\n",
       "PaperlessBilling       2\n",
       "PaymentMethod          4\n",
       "MonthlyCharges      1585\n",
       "TotalCharges        6531\n",
       "Churn                  2\n",
       "dtype: int64"
      ]
     },
     "execution_count": 18,
     "metadata": {},
     "output_type": "execute_result"
    }
   ],
   "source": [
    "#lets check the unique values of all the columns using unique() function \n",
    "df.nunique()"
   ]
  },
  {
   "cell_type": "markdown",
   "id": "9ea37871",
   "metadata": {},
   "source": [
    "Thus we see the number of unique and distinct value present in each category of column"
   ]
  },
  {
   "cell_type": "code",
   "execution_count": 19,
   "id": "7f3e8287",
   "metadata": {},
   "outputs": [
    {
     "name": "stdout",
     "output_type": "stream",
     "text": [
      "gender\n",
      "Male      3541\n",
      "Female    3480\n",
      "Name: gender, dtype: int64\n",
      "\n",
      "\n",
      "Partner\n",
      "No     3619\n",
      "Yes    3402\n",
      "Name: Partner, dtype: int64\n",
      "\n",
      "\n",
      "Dependents\n",
      "No     4911\n",
      "Yes    2110\n",
      "Name: Dependents, dtype: int64\n",
      "\n",
      "\n",
      "PhoneService\n",
      "Yes    6339\n",
      "No      682\n",
      "Name: PhoneService, dtype: int64\n",
      "\n",
      "\n",
      "MultipleLines\n",
      "No                  3368\n",
      "Yes                 2971\n",
      "No phone service     682\n",
      "Name: MultipleLines, dtype: int64\n",
      "\n",
      "\n",
      "InternetService\n",
      "Fiber optic    3090\n",
      "DSL            2419\n",
      "No             1512\n",
      "Name: InternetService, dtype: int64\n",
      "\n",
      "\n",
      "OnlineSecurity\n",
      "No                     3490\n",
      "Yes                    2019\n",
      "No internet service    1512\n",
      "Name: OnlineSecurity, dtype: int64\n",
      "\n",
      "\n",
      "OnlineBackup\n",
      "No                     3080\n",
      "Yes                    2429\n",
      "No internet service    1512\n",
      "Name: OnlineBackup, dtype: int64\n",
      "\n",
      "\n",
      "DeviceProtection\n",
      "No                     3087\n",
      "Yes                    2422\n",
      "No internet service    1512\n",
      "Name: DeviceProtection, dtype: int64\n",
      "\n",
      "\n",
      "TechSupport\n",
      "No                     3465\n",
      "Yes                    2044\n",
      "No internet service    1512\n",
      "Name: TechSupport, dtype: int64\n",
      "\n",
      "\n",
      "StreamingTV\n",
      "No                     2802\n",
      "Yes                    2707\n",
      "No internet service    1512\n",
      "Name: StreamingTV, dtype: int64\n",
      "\n",
      "\n",
      "StreamingMovies\n",
      "No                     2777\n",
      "Yes                    2732\n",
      "No internet service    1512\n",
      "Name: StreamingMovies, dtype: int64\n",
      "\n",
      "\n",
      "Contract\n",
      "Month-to-month    3853\n",
      "Two year          1695\n",
      "One year          1473\n",
      "Name: Contract, dtype: int64\n",
      "\n",
      "\n",
      "PaperlessBilling\n",
      "Yes    4161\n",
      "No     2860\n",
      "Name: PaperlessBilling, dtype: int64\n",
      "\n",
      "\n",
      "PaymentMethod\n",
      "Electronic check             2359\n",
      "Mailed check                 1596\n",
      "Bank transfer (automatic)    1544\n",
      "Credit card (automatic)      1522\n",
      "Name: PaymentMethod, dtype: int64\n",
      "\n",
      "\n",
      "TotalCharges\n",
      "           11\n",
      "19.75       9\n",
      "20.2        8\n",
      "19.9        7\n",
      "19.65       7\n",
      "           ..\n",
      "2431.95     1\n",
      "47.5        1\n",
      "1546.3      1\n",
      "335.75      1\n",
      "616.9       1\n",
      "Name: TotalCharges, Length: 6531, dtype: int64\n",
      "\n",
      "\n",
      "Churn\n",
      "No     5164\n",
      "Yes    1857\n",
      "Name: Churn, dtype: int64\n",
      "\n",
      "\n"
     ]
    }
   ],
   "source": [
    "for col in obj_col:\n",
    "    print(col)\n",
    "    print(df[col].value_counts())   \n",
    "    print('\\n')"
   ]
  },
  {
   "cell_type": "markdown",
   "id": "a521d184",
   "metadata": {},
   "source": [
    "This gives the number of records in each category of column.We observe that there are 11 blank records in total chrages column.so \n",
    "we will first convert the blank spaces with nan values and then apply imputation technique."
   ]
  },
  {
   "cell_type": "code",
   "execution_count": 20,
   "id": "d9cc7bd5",
   "metadata": {},
   "outputs": [
    {
     "data": {
      "text/html": [
       "<div>\n",
       "<style scoped>\n",
       "    .dataframe tbody tr th:only-of-type {\n",
       "        vertical-align: middle;\n",
       "    }\n",
       "\n",
       "    .dataframe tbody tr th {\n",
       "        vertical-align: top;\n",
       "    }\n",
       "\n",
       "    .dataframe thead th {\n",
       "        text-align: right;\n",
       "    }\n",
       "</style>\n",
       "<table border=\"1\" class=\"dataframe\">\n",
       "  <thead>\n",
       "    <tr style=\"text-align: right;\">\n",
       "      <th></th>\n",
       "      <th>gender</th>\n",
       "      <th>SeniorCitizen</th>\n",
       "      <th>Partner</th>\n",
       "      <th>Dependents</th>\n",
       "      <th>tenure</th>\n",
       "      <th>PhoneService</th>\n",
       "      <th>MultipleLines</th>\n",
       "      <th>InternetService</th>\n",
       "      <th>OnlineSecurity</th>\n",
       "      <th>OnlineBackup</th>\n",
       "      <th>DeviceProtection</th>\n",
       "      <th>TechSupport</th>\n",
       "      <th>StreamingTV</th>\n",
       "      <th>StreamingMovies</th>\n",
       "      <th>Contract</th>\n",
       "      <th>PaperlessBilling</th>\n",
       "      <th>PaymentMethod</th>\n",
       "      <th>MonthlyCharges</th>\n",
       "      <th>TotalCharges</th>\n",
       "      <th>Churn</th>\n",
       "    </tr>\n",
       "  </thead>\n",
       "  <tbody>\n",
       "    <tr>\n",
       "      <th>488</th>\n",
       "      <td>Female</td>\n",
       "      <td>0</td>\n",
       "      <td>Yes</td>\n",
       "      <td>Yes</td>\n",
       "      <td>0</td>\n",
       "      <td>No</td>\n",
       "      <td>No phone service</td>\n",
       "      <td>DSL</td>\n",
       "      <td>Yes</td>\n",
       "      <td>No</td>\n",
       "      <td>Yes</td>\n",
       "      <td>Yes</td>\n",
       "      <td>Yes</td>\n",
       "      <td>No</td>\n",
       "      <td>Two year</td>\n",
       "      <td>Yes</td>\n",
       "      <td>Bank transfer (automatic)</td>\n",
       "      <td>52.55</td>\n",
       "      <td></td>\n",
       "      <td>No</td>\n",
       "    </tr>\n",
       "    <tr>\n",
       "      <th>753</th>\n",
       "      <td>Male</td>\n",
       "      <td>0</td>\n",
       "      <td>No</td>\n",
       "      <td>Yes</td>\n",
       "      <td>0</td>\n",
       "      <td>Yes</td>\n",
       "      <td>No</td>\n",
       "      <td>No</td>\n",
       "      <td>No internet service</td>\n",
       "      <td>No internet service</td>\n",
       "      <td>No internet service</td>\n",
       "      <td>No internet service</td>\n",
       "      <td>No internet service</td>\n",
       "      <td>No internet service</td>\n",
       "      <td>Two year</td>\n",
       "      <td>No</td>\n",
       "      <td>Mailed check</td>\n",
       "      <td>20.25</td>\n",
       "      <td></td>\n",
       "      <td>No</td>\n",
       "    </tr>\n",
       "    <tr>\n",
       "      <th>936</th>\n",
       "      <td>Female</td>\n",
       "      <td>0</td>\n",
       "      <td>Yes</td>\n",
       "      <td>Yes</td>\n",
       "      <td>0</td>\n",
       "      <td>Yes</td>\n",
       "      <td>No</td>\n",
       "      <td>DSL</td>\n",
       "      <td>Yes</td>\n",
       "      <td>Yes</td>\n",
       "      <td>Yes</td>\n",
       "      <td>No</td>\n",
       "      <td>Yes</td>\n",
       "      <td>Yes</td>\n",
       "      <td>Two year</td>\n",
       "      <td>No</td>\n",
       "      <td>Mailed check</td>\n",
       "      <td>80.85</td>\n",
       "      <td></td>\n",
       "      <td>No</td>\n",
       "    </tr>\n",
       "    <tr>\n",
       "      <th>1082</th>\n",
       "      <td>Male</td>\n",
       "      <td>0</td>\n",
       "      <td>Yes</td>\n",
       "      <td>Yes</td>\n",
       "      <td>0</td>\n",
       "      <td>Yes</td>\n",
       "      <td>Yes</td>\n",
       "      <td>No</td>\n",
       "      <td>No internet service</td>\n",
       "      <td>No internet service</td>\n",
       "      <td>No internet service</td>\n",
       "      <td>No internet service</td>\n",
       "      <td>No internet service</td>\n",
       "      <td>No internet service</td>\n",
       "      <td>Two year</td>\n",
       "      <td>No</td>\n",
       "      <td>Mailed check</td>\n",
       "      <td>25.75</td>\n",
       "      <td></td>\n",
       "      <td>No</td>\n",
       "    </tr>\n",
       "    <tr>\n",
       "      <th>1340</th>\n",
       "      <td>Female</td>\n",
       "      <td>0</td>\n",
       "      <td>Yes</td>\n",
       "      <td>Yes</td>\n",
       "      <td>0</td>\n",
       "      <td>No</td>\n",
       "      <td>No phone service</td>\n",
       "      <td>DSL</td>\n",
       "      <td>Yes</td>\n",
       "      <td>Yes</td>\n",
       "      <td>Yes</td>\n",
       "      <td>Yes</td>\n",
       "      <td>Yes</td>\n",
       "      <td>No</td>\n",
       "      <td>Two year</td>\n",
       "      <td>No</td>\n",
       "      <td>Credit card (automatic)</td>\n",
       "      <td>56.05</td>\n",
       "      <td></td>\n",
       "      <td>No</td>\n",
       "    </tr>\n",
       "    <tr>\n",
       "      <th>3331</th>\n",
       "      <td>Male</td>\n",
       "      <td>0</td>\n",
       "      <td>Yes</td>\n",
       "      <td>Yes</td>\n",
       "      <td>0</td>\n",
       "      <td>Yes</td>\n",
       "      <td>No</td>\n",
       "      <td>No</td>\n",
       "      <td>No internet service</td>\n",
       "      <td>No internet service</td>\n",
       "      <td>No internet service</td>\n",
       "      <td>No internet service</td>\n",
       "      <td>No internet service</td>\n",
       "      <td>No internet service</td>\n",
       "      <td>Two year</td>\n",
       "      <td>No</td>\n",
       "      <td>Mailed check</td>\n",
       "      <td>19.85</td>\n",
       "      <td></td>\n",
       "      <td>No</td>\n",
       "    </tr>\n",
       "    <tr>\n",
       "      <th>3826</th>\n",
       "      <td>Male</td>\n",
       "      <td>0</td>\n",
       "      <td>Yes</td>\n",
       "      <td>Yes</td>\n",
       "      <td>0</td>\n",
       "      <td>Yes</td>\n",
       "      <td>Yes</td>\n",
       "      <td>No</td>\n",
       "      <td>No internet service</td>\n",
       "      <td>No internet service</td>\n",
       "      <td>No internet service</td>\n",
       "      <td>No internet service</td>\n",
       "      <td>No internet service</td>\n",
       "      <td>No internet service</td>\n",
       "      <td>Two year</td>\n",
       "      <td>No</td>\n",
       "      <td>Mailed check</td>\n",
       "      <td>25.35</td>\n",
       "      <td></td>\n",
       "      <td>No</td>\n",
       "    </tr>\n",
       "    <tr>\n",
       "      <th>4380</th>\n",
       "      <td>Female</td>\n",
       "      <td>0</td>\n",
       "      <td>Yes</td>\n",
       "      <td>Yes</td>\n",
       "      <td>0</td>\n",
       "      <td>Yes</td>\n",
       "      <td>No</td>\n",
       "      <td>No</td>\n",
       "      <td>No internet service</td>\n",
       "      <td>No internet service</td>\n",
       "      <td>No internet service</td>\n",
       "      <td>No internet service</td>\n",
       "      <td>No internet service</td>\n",
       "      <td>No internet service</td>\n",
       "      <td>Two year</td>\n",
       "      <td>No</td>\n",
       "      <td>Mailed check</td>\n",
       "      <td>20.00</td>\n",
       "      <td></td>\n",
       "      <td>No</td>\n",
       "    </tr>\n",
       "    <tr>\n",
       "      <th>5218</th>\n",
       "      <td>Male</td>\n",
       "      <td>0</td>\n",
       "      <td>Yes</td>\n",
       "      <td>Yes</td>\n",
       "      <td>0</td>\n",
       "      <td>Yes</td>\n",
       "      <td>No</td>\n",
       "      <td>No</td>\n",
       "      <td>No internet service</td>\n",
       "      <td>No internet service</td>\n",
       "      <td>No internet service</td>\n",
       "      <td>No internet service</td>\n",
       "      <td>No internet service</td>\n",
       "      <td>No internet service</td>\n",
       "      <td>One year</td>\n",
       "      <td>Yes</td>\n",
       "      <td>Mailed check</td>\n",
       "      <td>19.70</td>\n",
       "      <td></td>\n",
       "      <td>No</td>\n",
       "    </tr>\n",
       "    <tr>\n",
       "      <th>6670</th>\n",
       "      <td>Female</td>\n",
       "      <td>0</td>\n",
       "      <td>Yes</td>\n",
       "      <td>Yes</td>\n",
       "      <td>0</td>\n",
       "      <td>Yes</td>\n",
       "      <td>Yes</td>\n",
       "      <td>DSL</td>\n",
       "      <td>No</td>\n",
       "      <td>Yes</td>\n",
       "      <td>Yes</td>\n",
       "      <td>Yes</td>\n",
       "      <td>Yes</td>\n",
       "      <td>No</td>\n",
       "      <td>Two year</td>\n",
       "      <td>No</td>\n",
       "      <td>Mailed check</td>\n",
       "      <td>73.35</td>\n",
       "      <td></td>\n",
       "      <td>No</td>\n",
       "    </tr>\n",
       "    <tr>\n",
       "      <th>6754</th>\n",
       "      <td>Male</td>\n",
       "      <td>0</td>\n",
       "      <td>No</td>\n",
       "      <td>Yes</td>\n",
       "      <td>0</td>\n",
       "      <td>Yes</td>\n",
       "      <td>Yes</td>\n",
       "      <td>DSL</td>\n",
       "      <td>Yes</td>\n",
       "      <td>Yes</td>\n",
       "      <td>No</td>\n",
       "      <td>Yes</td>\n",
       "      <td>No</td>\n",
       "      <td>No</td>\n",
       "      <td>Two year</td>\n",
       "      <td>Yes</td>\n",
       "      <td>Bank transfer (automatic)</td>\n",
       "      <td>61.90</td>\n",
       "      <td></td>\n",
       "      <td>No</td>\n",
       "    </tr>\n",
       "  </tbody>\n",
       "</table>\n",
       "</div>"
      ],
      "text/plain": [
       "      gender  SeniorCitizen Partner Dependents  tenure PhoneService     MultipleLines InternetService       OnlineSecurity         OnlineBackup     DeviceProtection          TechSupport          StreamingTV      StreamingMovies  Contract PaperlessBilling              PaymentMethod  MonthlyCharges TotalCharges Churn\n",
       "488   Female              0     Yes        Yes       0           No  No phone service             DSL                  Yes                   No                  Yes                  Yes                  Yes                   No  Two year              Yes  Bank transfer (automatic)           52.55                 No\n",
       "753     Male              0      No        Yes       0          Yes                No              No  No internet service  No internet service  No internet service  No internet service  No internet service  No internet service  Two year               No               Mailed check           20.25                 No\n",
       "936   Female              0     Yes        Yes       0          Yes                No             DSL                  Yes                  Yes                  Yes                   No                  Yes                  Yes  Two year               No               Mailed check           80.85                 No\n",
       "1082    Male              0     Yes        Yes       0          Yes               Yes              No  No internet service  No internet service  No internet service  No internet service  No internet service  No internet service  Two year               No               Mailed check           25.75                 No\n",
       "1340  Female              0     Yes        Yes       0           No  No phone service             DSL                  Yes                  Yes                  Yes                  Yes                  Yes                   No  Two year               No    Credit card (automatic)           56.05                 No\n",
       "3331    Male              0     Yes        Yes       0          Yes                No              No  No internet service  No internet service  No internet service  No internet service  No internet service  No internet service  Two year               No               Mailed check           19.85                 No\n",
       "3826    Male              0     Yes        Yes       0          Yes               Yes              No  No internet service  No internet service  No internet service  No internet service  No internet service  No internet service  Two year               No               Mailed check           25.35                 No\n",
       "4380  Female              0     Yes        Yes       0          Yes                No              No  No internet service  No internet service  No internet service  No internet service  No internet service  No internet service  Two year               No               Mailed check           20.00                 No\n",
       "5218    Male              0     Yes        Yes       0          Yes                No              No  No internet service  No internet service  No internet service  No internet service  No internet service  No internet service  One year              Yes               Mailed check           19.70                 No\n",
       "6670  Female              0     Yes        Yes       0          Yes               Yes             DSL                   No                  Yes                  Yes                  Yes                  Yes                   No  Two year               No               Mailed check           73.35                 No\n",
       "6754    Male              0      No        Yes       0          Yes               Yes             DSL                  Yes                  Yes                   No                  Yes                   No                   No  Two year              Yes  Bank transfer (automatic)           61.90                 No"
      ]
     },
     "execution_count": 20,
     "metadata": {},
     "output_type": "execute_result"
    }
   ],
   "source": [
    "#identifying the blank spaces \n",
    "df.loc[df['TotalCharges']==' ']"
   ]
  },
  {
   "cell_type": "code",
   "execution_count": 21,
   "id": "881b924b",
   "metadata": {},
   "outputs": [
    {
     "data": {
      "text/plain": [
       "0         29.85\n",
       "1        1889.5\n",
       "2        108.15\n",
       "3       1840.75\n",
       "4        151.65\n",
       "         ...   \n",
       "7038     1990.5\n",
       "7039     7362.9\n",
       "7040     346.45\n",
       "7041      306.6\n",
       "7042     6844.5\n",
       "Name: TotalCharges, Length: 7021, dtype: object"
      ]
     },
     "execution_count": 21,
     "metadata": {},
     "output_type": "execute_result"
    }
   ],
   "source": [
    "df[\"TotalCharges\"]=df[\"TotalCharges\"].replace(\" \",np.nan)\n",
    "df[\"TotalCharges\"]"
   ]
  },
  {
   "cell_type": "code",
   "execution_count": 22,
   "id": "6bc0f7d5",
   "metadata": {},
   "outputs": [],
   "source": [
    "df[\"TotalCharges\"]=df[\"TotalCharges\"].astype(float)"
   ]
  },
  {
   "cell_type": "code",
   "execution_count": 23,
   "id": "7d65019a",
   "metadata": {},
   "outputs": [
    {
     "data": {
      "text/plain": [
       "dtype('float64')"
      ]
     },
     "execution_count": 23,
     "metadata": {},
     "output_type": "execute_result"
    }
   ],
   "source": [
    "df[\"TotalCharges\"].dtype #object column converetd to numeric column"
   ]
  },
  {
   "cell_type": "markdown",
   "id": "647162b8",
   "metadata": {},
   "source": [
    "Now will impute the null values with mean imputaion technique"
   ]
  },
  {
   "cell_type": "code",
   "execution_count": 24,
   "id": "632dae6e",
   "metadata": {},
   "outputs": [],
   "source": [
    "df[\"TotalCharges\"]=df[\"TotalCharges\"].fillna(np.mean(df[\"TotalCharges\"]))"
   ]
  },
  {
   "cell_type": "markdown",
   "id": "0319932e",
   "metadata": {},
   "source": [
    "Converting the senior citizen whichis in numerical datatye to object datatype"
   ]
  },
  {
   "cell_type": "code",
   "execution_count": 25,
   "id": "0ac880c6",
   "metadata": {},
   "outputs": [
    {
     "data": {
      "text/plain": [
       "dtype('O')"
      ]
     },
     "execution_count": 25,
     "metadata": {},
     "output_type": "execute_result"
    }
   ],
   "source": [
    "df['SeniorCitizen'] = df['SeniorCitizen'].astype('O')\n",
    "df['SeniorCitizen'].dtype"
   ]
  },
  {
   "cell_type": "markdown",
   "id": "ad39a0b3",
   "metadata": {},
   "source": [
    "# Revised Object and non_Object datatypes columns are"
   ]
  },
  {
   "cell_type": "code",
   "execution_count": 26,
   "id": "14f2263b",
   "metadata": {},
   "outputs": [],
   "source": [
    "non_obj = df.select_dtypes(exclude ='object')\n",
    "obj=df.select_dtypes(include='object')"
   ]
  },
  {
   "cell_type": "code",
   "execution_count": 27,
   "id": "5f7437ee",
   "metadata": {},
   "outputs": [
    {
     "data": {
      "text/plain": [
       "Index(['tenure', 'MonthlyCharges', 'TotalCharges'], dtype='object')"
      ]
     },
     "execution_count": 27,
     "metadata": {},
     "output_type": "execute_result"
    }
   ],
   "source": [
    "non_obj.columns"
   ]
  },
  {
   "cell_type": "code",
   "execution_count": 28,
   "id": "d930a967",
   "metadata": {},
   "outputs": [
    {
     "data": {
      "text/plain": [
       "Index(['gender', 'SeniorCitizen', 'Partner', 'Dependents', 'PhoneService', 'MultipleLines', 'InternetService', 'OnlineSecurity', 'OnlineBackup', 'DeviceProtection', 'TechSupport', 'StreamingTV', 'StreamingMovies', 'Contract', 'PaperlessBilling', 'PaymentMethod', 'Churn'], dtype='object')"
      ]
     },
     "execution_count": 28,
     "metadata": {},
     "output_type": "execute_result"
    }
   ],
   "source": [
    "obj.columns"
   ]
  },
  {
   "cell_type": "markdown",
   "id": "875c9c88",
   "metadata": {},
   "source": [
    "# UNIVARIATE ANALYSIS FOR CATEGORICAL COLUMN"
   ]
  },
  {
   "cell_type": "code",
   "execution_count": 29,
   "id": "4ec17d7a",
   "metadata": {},
   "outputs": [
    {
     "data": {
      "image/png": "[encoded data removed]",
      "text/plain": [
       "<Figure size 432x288 with 1 Axes>"
      ]
     },
     "metadata": {
      "needs_background": "light"
     },
     "output_type": "display_data"
    },
    {
     "name": "stdout",
     "output_type": "stream",
     "text": [
      "No     5164\n",
      "Yes    1857\n",
      "Name: Churn, dtype: int64\n"
     ]
    }
   ],
   "source": [
    "sns.countplot(x='Churn', data=obj)  #Plotting the Churn using countplot\n",
    "plt.show()\n",
    "print(df['Churn'].value_counts())"
   ]
  },
  {
   "cell_type": "markdown",
   "id": "67393f62",
   "metadata": {},
   "source": [
    "Thus we see customers leaving the services are on the higher side than the custometrs staying on the same services offered by telecom company\n",
    "As churn is our target column,we see that the data is imbalance,we will apply smote technique to balance it later."
   ]
  },
  {
   "cell_type": "code",
   "execution_count": 30,
   "id": "d1c90eed",
   "metadata": {},
   "outputs": [
    {
     "data": {
      "image/png": "[encoded data removed]",
      "text/plain": [
       "<Figure size 432x288 with 1 Axes>"
      ]
     },
     "metadata": {
      "needs_background": "light"
     },
     "output_type": "display_data"
    },
    {
     "name": "stdout",
     "output_type": "stream",
     "text": [
      "Male      3541\n",
      "Female    3480\n",
      "Name: gender, dtype: int64\n"
     ]
    }
   ],
   "source": [
    "sns.countplot(x='gender', data=obj)  #Plotting the gender using countplot\n",
    "plt.show()\n",
    "print(df['gender'].value_counts())"
   ]
  },
  {
   "cell_type": "markdown",
   "id": "843d1993",
   "metadata": {},
   "source": [
    "male and female are almost having equal records still male is slightly higher than female."
   ]
  },
  {
   "cell_type": "code",
   "execution_count": 31,
   "id": "77c17e78",
   "metadata": {},
   "outputs": [
    {
     "data": {
      "image/png": "[encoded data removed]",
      "text/plain": [
       "<Figure size 432x288 with 1 Axes>"
      ]
     },
     "metadata": {
      "needs_background": "light"
     },
     "output_type": "display_data"
    },
    {
     "name": "stdout",
     "output_type": "stream",
     "text": [
      "0    5880\n",
      "1    1141\n",
      "Name: SeniorCitizen, dtype: int64\n"
     ]
    }
   ],
   "source": [
    "sns.countplot(x='SeniorCitizen', data=obj)  #Plotting the senior citizen using countplot\n",
    "plt.show()\n",
    "print(df['SeniorCitizen'].value_counts())"
   ]
  },
  {
   "cell_type": "markdown",
   "id": "dd859fa3",
   "metadata": {},
   "source": [
    "Those who are not senior citizen are very high in number and those who are senior citizen are low in number may senior citizens are not that much availing the services."
   ]
  },
  {
   "cell_type": "code",
   "execution_count": 32,
   "id": "e8c396e8",
   "metadata": {},
   "outputs": [
    {
     "data": {
      "image/png": "[encoded data removed]",
      "text/plain": [
       "<Figure size 432x288 with 1 Axes>"
      ]
     },
     "metadata": {
      "needs_background": "light"
     },
     "output_type": "display_data"
    },
    {
     "name": "stdout",
     "output_type": "stream",
     "text": [
      "No     3619\n",
      "Yes    3402\n",
      "Name: Partner, dtype: int64\n"
     ]
    }
   ],
   "source": [
    "sns.countplot(x='Partner', data=obj)  #Plotting the partners using countplot\n",
    "plt.show()\n",
    "print(df['Partner'].value_counts())"
   ]
  },
  {
   "cell_type": "markdown",
   "id": "be764aba",
   "metadata": {},
   "source": [
    "The customers who are having partners and not having partners are almost equal."
   ]
  },
  {
   "cell_type": "code",
   "execution_count": 33,
   "id": "41f2d537",
   "metadata": {},
   "outputs": [
    {
     "data": {
      "image/png": "[encoded data removed]",
      "text/plain": [
       "<Figure size 432x288 with 1 Axes>"
      ]
     },
     "metadata": {
      "needs_background": "light"
     },
     "output_type": "display_data"
    },
    {
     "name": "stdout",
     "output_type": "stream",
     "text": [
      "No     4911\n",
      "Yes    2110\n",
      "Name: Dependents, dtype: int64\n"
     ]
    }
   ],
   "source": [
    "sns.countplot(x='Dependents', data=obj)  #Plotting the dependents using countplot\n",
    "plt.show()\n",
    "print(df['Dependents'].value_counts())"
   ]
  },
  {
   "cell_type": "markdown",
   "id": "72b3ac3e",
   "metadata": {},
   "source": [
    "Those customers are having dependents are less in number and those who are not having dependents are high in number."
   ]
  },
  {
   "cell_type": "code",
   "execution_count": 34,
   "id": "55d21c2e",
   "metadata": {},
   "outputs": [
    {
     "data": {
      "image/png": "[encoded data removed]",
      "text/plain": [
       "<Figure size 432x288 with 1 Axes>"
      ]
     },
     "metadata": {
      "needs_background": "light"
     },
     "output_type": "display_data"
    },
    {
     "name": "stdout",
     "output_type": "stream",
     "text": [
      "Yes    6339\n",
      "No      682\n",
      "Name: PhoneService, dtype: int64\n"
     ]
    }
   ],
   "source": [
    "sns.countplot(x='PhoneService', data=obj)  #Plotting the phoneservice using countplot\n",
    "plt.show()\n",
    "print(df['PhoneService'].value_counts())"
   ]
  },
  {
   "cell_type": "markdown",
   "id": "8719a4ce",
   "metadata": {},
   "source": [
    "The number of customers who are using phone services are high in number that is 6339 and those who are not using phone services are less\n",
    "around 682."
   ]
  },
  {
   "cell_type": "code",
   "execution_count": 35,
   "id": "14e4f4f5",
   "metadata": {},
   "outputs": [
    {
     "data": {
      "image/png": "[encoded data removed]",
      "text/plain": [
       "<Figure size 432x288 with 1 Axes>"
      ]
     },
     "metadata": {
      "needs_background": "light"
     },
     "output_type": "display_data"
    },
    {
     "name": "stdout",
     "output_type": "stream",
     "text": [
      "No                  3368\n",
      "Yes                 2971\n",
      "No phone service     682\n",
      "Name: MultipleLines, dtype: int64\n"
     ]
    }
   ],
   "source": [
    "sns.countplot(x='MultipleLines', data=obj)  #Plotting the multiplelines using countplot\n",
    "plt.show()\n",
    "print(df['MultipleLines'].value_counts())"
   ]
  },
  {
   "cell_type": "markdown",
   "id": "5fba4b8f",
   "metadata": {},
   "source": [
    "The customers who are using multiples line is 2971,those customers who are not having any phone service is around 682 and those not havung\n",
    "any multiple lines are 3368 which are majority in number."
   ]
  },
  {
   "cell_type": "code",
   "execution_count": 36,
   "id": "9e8e1204",
   "metadata": {},
   "outputs": [
    {
     "data": {
      "image/png": "[encoded data removed]",
      "text/plain": [
       "<Figure size 432x288 with 1 Axes>"
      ]
     },
     "metadata": {
      "needs_background": "light"
     },
     "output_type": "display_data"
    },
    {
     "name": "stdout",
     "output_type": "stream",
     "text": [
      "No                     3490\n",
      "Yes                    2019\n",
      "No internet service    1512\n",
      "Name: OnlineSecurity, dtype: int64\n"
     ]
    }
   ],
   "source": [
    "sns.countplot(x='OnlineSecurity', data=obj)  #Plotting the onlinesecurity using countplot\n",
    "plt.show()\n",
    "print(df['OnlineSecurity'].value_counts())"
   ]
  },
  {
   "cell_type": "markdown",
   "id": "4525b520",
   "metadata": {},
   "source": [
    "The customers having no online security is around 3490,those having online security is around 2019 and those not hvaing any internet\n",
    "service is around 1512."
   ]
  },
  {
   "cell_type": "code",
   "execution_count": 37,
   "id": "db5ee388",
   "metadata": {},
   "outputs": [
    {
     "data": {
      "image/png": "[encoded data removed]",
      "text/plain": [
       "<Figure size 432x288 with 1 Axes>"
      ]
     },
     "metadata": {
      "needs_background": "light"
     },
     "output_type": "display_data"
    },
    {
     "name": "stdout",
     "output_type": "stream",
     "text": [
      "No                     3080\n",
      "Yes                    2429\n",
      "No internet service    1512\n",
      "Name: OnlineBackup, dtype: int64\n"
     ]
    }
   ],
   "source": [
    "sns.countplot(x='OnlineBackup', data=obj)  #Plotting the onlinebackup using countplot\n",
    "plt.show()\n",
    "print(df['OnlineBackup'].value_counts())"
   ]
  },
  {
   "cell_type": "markdown",
   "id": "d31dc6bb",
   "metadata": {},
   "source": [
    "Those customers who are not havoing online back up is 3080,having online back up is 2429 and those having no internet service is \n",
    "1512."
   ]
  },
  {
   "cell_type": "code",
   "execution_count": 38,
   "id": "622b03ea",
   "metadata": {},
   "outputs": [
    {
     "data": {
      "image/png": "[encoded data removed]",
      "text/plain": [
       "<Figure size 432x288 with 1 Axes>"
      ]
     },
     "metadata": {
      "needs_background": "light"
     },
     "output_type": "display_data"
    },
    {
     "name": "stdout",
     "output_type": "stream",
     "text": [
      "No                     3087\n",
      "Yes                    2422\n",
      "No internet service    1512\n",
      "Name: DeviceProtection, dtype: int64\n"
     ]
    }
   ],
   "source": [
    "sns.countplot(x='DeviceProtection', data=obj)  #Plotting the deviceprotection using countplot\n",
    "plt.show()\n",
    "print(df['DeviceProtection'].value_counts())"
   ]
  },
  {
   "cell_type": "markdown",
   "id": "2d3f52fe",
   "metadata": {},
   "source": [
    "Those customers having device protection is 2422,not having device protection is 3087 and those having no inetrnet service is 1512."
   ]
  },
  {
   "cell_type": "code",
   "execution_count": 39,
   "id": "cae59201",
   "metadata": {},
   "outputs": [
    {
     "data": {
      "image/png": "[encoded data removed]",
      "text/plain": [
       "<Figure size 432x288 with 1 Axes>"
      ]
     },
     "metadata": {
      "needs_background": "light"
     },
     "output_type": "display_data"
    },
    {
     "name": "stdout",
     "output_type": "stream",
     "text": [
      "No                     3465\n",
      "Yes                    2044\n",
      "No internet service    1512\n",
      "Name: TechSupport, dtype: int64\n"
     ]
    }
   ],
   "source": [
    "sns.countplot(x='TechSupport', data=obj)  #Plotting the techsupport using countplot\n",
    "plt.show()\n",
    "print(df['TechSupport'].value_counts())"
   ]
  },
  {
   "cell_type": "markdown",
   "id": "2bd1a8d2",
   "metadata": {},
   "source": [
    "Majority of the customers are not getting any tech suport that is 3465,those who are getting techsupport are around 2044 and those\n",
    "having no internet service is 1512."
   ]
  },
  {
   "cell_type": "code",
   "execution_count": 40,
   "id": "3fa88244",
   "metadata": {},
   "outputs": [
    {
     "data": {
      "image/png": "[encoded data removed]",
      "text/plain": [
       "<Figure size 432x288 with 1 Axes>"
      ]
     },
     "metadata": {
      "needs_background": "light"
     },
     "output_type": "display_data"
    },
    {
     "name": "stdout",
     "output_type": "stream",
     "text": [
      "No                     2802\n",
      "Yes                    2707\n",
      "No internet service    1512\n",
      "Name: StreamingTV, dtype: int64\n"
     ]
    }
   ],
   "source": [
    "sns.countplot(x='StreamingTV', data=obj)  #Plotting the streamingtv using countplot\n",
    "plt.show()\n",
    "print(df['StreamingTV'].value_counts())"
   ]
  },
  {
   "cell_type": "markdown",
   "id": "1fe7dcf9",
   "metadata": {},
   "source": [
    "Those customers which are having streamingtv facility are 2702 ,those are not hvaing any streaming tv facility are 2802. "
   ]
  },
  {
   "cell_type": "code",
   "execution_count": 41,
   "id": "4909dfae",
   "metadata": {},
   "outputs": [
    {
     "data": {
      "image/png": "[encoded data removed]",
      "text/plain": [
       "<Figure size 432x288 with 1 Axes>"
      ]
     },
     "metadata": {
      "needs_background": "light"
     },
     "output_type": "display_data"
    },
    {
     "name": "stdout",
     "output_type": "stream",
     "text": [
      "No                     2777\n",
      "Yes                    2732\n",
      "No internet service    1512\n",
      "Name: StreamingMovies, dtype: int64\n"
     ]
    }
   ],
   "source": [
    "sns.countplot(x='StreamingMovies', data=obj)  #Plotting the streamingmovies using countplot\n",
    "plt.show()\n",
    "print(df['StreamingMovies'].value_counts())"
   ]
  },
  {
   "cell_type": "markdown",
   "id": "5ffd7f50",
   "metadata": {},
   "source": [
    "Those customers which are hving streamingmovies facility are 2732 and those who are not hvaing streaming moveies facility are 2777."
   ]
  },
  {
   "cell_type": "code",
   "execution_count": 42,
   "id": "766f9094",
   "metadata": {},
   "outputs": [
    {
     "data": {
      "image/png": "[encoded data removed]",
      "text/plain": [
       "<Figure size 432x288 with 1 Axes>"
      ]
     },
     "metadata": {
      "needs_background": "light"
     },
     "output_type": "display_data"
    },
    {
     "name": "stdout",
     "output_type": "stream",
     "text": [
      "Month-to-month    3853\n",
      "Two year          1695\n",
      "One year          1473\n",
      "Name: Contract, dtype: int64\n"
     ]
    }
   ],
   "source": [
    "sns.countplot(x='Contract', data=obj)  #Plotting the Contract using countplot\n",
    "plt.show()\n",
    "print(df['Contract'].value_counts())"
   ]
  },
  {
   "cell_type": "markdown",
   "id": "717c576d",
   "metadata": {},
   "source": [
    "Majority of the customers are having contract for month-to-month that is 3835.Those who have contract for two year is 1695 and for one year it is 1473."
   ]
  },
  {
   "cell_type": "code",
   "execution_count": 43,
   "id": "3b58899b",
   "metadata": {},
   "outputs": [
    {
     "data": {
      "image/png": "[encoded data removed]",
      "text/plain": [
       "<Figure size 432x288 with 1 Axes>"
      ]
     },
     "metadata": {
      "needs_background": "light"
     },
     "output_type": "display_data"
    },
    {
     "name": "stdout",
     "output_type": "stream",
     "text": [
      "Yes    4161\n",
      "No     2860\n",
      "Name: PaperlessBilling, dtype: int64\n"
     ]
    }
   ],
   "source": [
    "sns.countplot(x='PaperlessBilling', data=obj)  #Plotting the PaperlessBilling using countplot\n",
    "plt.show()\n",
    "print(df['PaperlessBilling'].value_counts())"
   ]
  },
  {
   "cell_type": "markdown",
   "id": "c9ae2e4b",
   "metadata": {},
   "source": [
    "Majority of the customers are having paperless billing. "
   ]
  },
  {
   "cell_type": "code",
   "execution_count": 44,
   "id": "3fa2fd4e",
   "metadata": {},
   "outputs": [
    {
     "data": {
      "image/png": "[encoded data removed]",
      "text/plain": [
       "<Figure size 432x288 with 1 Axes>"
      ]
     },
     "metadata": {
      "needs_background": "light"
     },
     "output_type": "display_data"
    },
    {
     "name": "stdout",
     "output_type": "stream",
     "text": [
      "Electronic check             2359\n",
      "Mailed check                 1596\n",
      "Bank transfer (automatic)    1544\n",
      "Credit card (automatic)      1522\n",
      "Name: PaymentMethod, dtype: int64\n"
     ]
    }
   ],
   "source": [
    "sns.countplot(x='PaymentMethod', data=obj)  #Plotting the PaperlessBilling using countplot\n",
    "plt.show()\n",
    "print(df['PaymentMethod'].value_counts())"
   ]
  },
  {
   "cell_type": "markdown",
   "id": "e361babb",
   "metadata": {},
   "source": [
    "Majority of the customers prefer to pay through electronic check that is 2359 and least is credit card that is 1522."
   ]
  },
  {
   "cell_type": "code",
   "execution_count": 46,
   "id": "ad2b547f",
   "metadata": {},
   "outputs": [
    {
     "data": {
      "text/plain": [
       "<AxesSubplot:xlabel='Churn', ylabel='count'>"
      ]
     },
     "execution_count": 46,
     "metadata": {},
     "output_type": "execute_result"
    },
    {
     "data": {
      "image/png": "[encoded data removed]",
      "text/plain": [
       "<Figure size 432x288 with 1 Axes>"
      ]
     },
     "metadata": {
      "needs_background": "light"
     },
     "output_type": "display_data"
    }
   ],
   "source": [
    "sns.countplot(x='Churn',data=df,hue='gender',palette=\"turbo_r\")"
   ]
  },
  {
   "cell_type": "markdown",
   "id": "827f9ee0",
   "metadata": {},
   "source": [
    "Thus we see that gender is not contributing factor for customer churn as both the male and female ratios are almost same for churned or not churned."
   ]
  },
  {
   "cell_type": "code",
   "execution_count": 47,
   "id": "0a97887a",
   "metadata": {},
   "outputs": [
    {
     "data": {
      "text/plain": [
       "<AxesSubplot:xlabel='Churn', ylabel='count'>"
      ]
     },
     "execution_count": 47,
     "metadata": {},
     "output_type": "execute_result"
    },
    {
     "data": {
      "image/png": "[encoded data removed]",
      "text/plain": [
       "<Figure size 432x288 with 1 Axes>"
      ]
     },
     "metadata": {
      "needs_background": "light"
     },
     "output_type": "display_data"
    }
   ],
   "source": [
    "sns.countplot(x='Churn',data=df, hue='InternetService')"
   ]
  },
  {
   "cell_type": "markdown",
   "id": "f56efef9",
   "metadata": {},
   "source": [
    "Thus we observe that there is no effect of internet services those who are not churned,means they are enjoying the services.\n",
    "Those customers who are using fiber optic have high churn rate.this means company needs to look upon these and find out ways to improve\n",
    "fiber optic services."
   ]
  },
  {
   "cell_type": "code",
   "execution_count": 48,
   "id": "5aa56a41",
   "metadata": {},
   "outputs": [
    {
     "data": {
      "text/plain": [
       "<AxesSubplot:xlabel='Churn', ylabel='count'>"
      ]
     },
     "execution_count": 48,
     "metadata": {},
     "output_type": "execute_result"
    },
    {
     "data": {
      "image/png": "[encoded data removed]",
      "text/plain": [
       "<Figure size 432x288 with 1 Axes>"
      ]
     },
     "metadata": {
      "needs_background": "light"
     },
     "output_type": "display_data"
    }
   ],
   "source": [
    "sns.countplot(x='Churn',data=df, hue='PaperlessBilling')"
   ]
  },
  {
   "cell_type": "markdown",
   "id": "47e42c9b",
   "metadata": {},
   "source": [
    "Thus we see that those customers who are using paperlessbiling having high churn rate,this may be because they may prefer tradional biling paper method."
   ]
  },
  {
   "cell_type": "code",
   "execution_count": 49,
   "id": "382edf9b",
   "metadata": {},
   "outputs": [
    {
     "data": {
      "text/plain": [
       "<AxesSubplot:xlabel='Churn', ylabel='count'>"
      ]
     },
     "execution_count": 49,
     "metadata": {},
     "output_type": "execute_result"
    },
    {
     "data": {
      "image/png": "[encoded data removed]",
      "text/plain": [
       "<Figure size 432x288 with 1 Axes>"
      ]
     },
     "metadata": {
      "needs_background": "light"
     },
     "output_type": "display_data"
    }
   ],
   "source": [
    "sns.countplot(x='Churn',data=df, hue='Contract')"
   ]
  },
  {
   "cell_type": "markdown",
   "id": "18af7bdb",
   "metadata": {},
   "source": [
    "Thus we observe that customers who are having contract for month-to-month are are having high churn rate may be due to\n",
    "reason that they are not happy with the services.We need to retain this customers by giving favourable personalized services like one month free streamingtv or movies services,free 1 GB etc ,this defintly impact them and make them stay longer time.     "
   ]
  },
  {
   "cell_type": "code",
   "execution_count": 51,
   "id": "c47fc442",
   "metadata": {},
   "outputs": [
    {
     "data": {
      "text/plain": [
       "<AxesSubplot:xlabel='Churn', ylabel='count'>"
      ]
     },
     "execution_count": 51,
     "metadata": {},
     "output_type": "execute_result"
    },
    {
     "data": {
      "image/png": "[encoded data removed]",
      "text/plain": [
       "<Figure size 432x288 with 1 Axes>"
      ]
     },
     "metadata": {
      "needs_background": "light"
     },
     "output_type": "display_data"
    }
   ],
   "source": [
    "sns.countplot(x='Churn',data=df, hue='PaymentMethod')"
   ]
  },
  {
   "cell_type": "markdown",
   "id": "26e19026",
   "metadata": {},
   "source": [
    "Customers who are using electronic check are having high churn rate may be due to reason that there are still customers who\n",
    "doesnt feel safe in transacting online may be due to cyber frauds  or may be due to slower processing timeetc."
   ]
  },
  {
   "cell_type": "code",
   "execution_count": 52,
   "id": "71302c8c",
   "metadata": {},
   "outputs": [
    {
     "data": {
      "text/plain": [
       "<AxesSubplot:xlabel='Churn', ylabel='count'>"
      ]
     },
     "execution_count": 52,
     "metadata": {},
     "output_type": "execute_result"
    },
    {
     "data": {
      "image/png": "[encoded data removed]",
      "text/plain": [
       "<Figure size 432x288 with 1 Axes>"
      ]
     },
     "metadata": {
      "needs_background": "light"
     },
     "output_type": "display_data"
    }
   ],
   "source": [
    "sns.countplot(x='Churn',data=df, hue='TechSupport')"
   ]
  },
  {
   "cell_type": "markdown",
   "id": "d483bcef",
   "metadata": {},
   "source": [
    "Thus we see that tech suport provided by compoany is good .Those customers who are have tech support are churned more. "
   ]
  },
  {
   "cell_type": "code",
   "execution_count": 62,
   "id": "b552c5d5",
   "metadata": {},
   "outputs": [
    {
     "data": {
      "image/png": "[encoded data removed]",
      "text/plain": [
       "<Figure size 432x288 with 1 Axes>"
      ]
     },
     "metadata": {
      "needs_background": "light"
     },
     "output_type": "display_data"
    }
   ],
   "source": [
    "ax = sns.histplot(x = 'tenure', hue = 'Churn', data = df,multiple='dodge')\n",
    "#ax.set(xlabel=\"Tenure in Months\", ylabel = \"Count\")"
   ]
  },
  {
   "cell_type": "markdown",
   "id": "1a1c8372",
   "metadata": {},
   "source": [
    "Thus we observe that for the initial months ,the churn rate was higher,this is the phase when the new customers takes the connection\n",
    "and apply 'wait and watch policy' to check all the services provided by the telecom company is good or not,if they find it not satisfied,they \n",
    "leave the connection. "
   ]
  },
  {
   "cell_type": "code",
   "execution_count": 63,
   "id": "b2e7ecbc",
   "metadata": {},
   "outputs": [
    {
     "data": {
      "text/plain": [
       "<AxesSubplot:xlabel='MonthlyCharges', ylabel='Count'>"
      ]
     },
     "execution_count": 63,
     "metadata": {},
     "output_type": "execute_result"
    },
    {
     "data": {
      "image/png": "[encoded data removed]",
      "text/plain": [
       "<Figure size 432x288 with 1 Axes>"
      ]
     },
     "metadata": {
      "needs_background": "light"
     },
     "output_type": "display_data"
    }
   ],
   "source": [
    "sns.histplot(x='MonthlyCharges',hue='Churn',data=df,multiple='dodge')"
   ]
  },
  {
   "cell_type": "markdown",
   "id": "727b263e",
   "metadata": {},
   "source": [
    "Those who are paying monthly charges more ,they are not leaving the company may be due to the fact that company may be giving\n",
    "some personalised services to retain them."
   ]
  },
  {
   "cell_type": "markdown",
   "id": "34858dfd",
   "metadata": {},
   "source": [
    "# Density plot of all the numerical features"
   ]
  },
  {
   "cell_type": "code",
   "execution_count": 70,
   "id": "f08b106c",
   "metadata": {},
   "outputs": [
    {
     "data": {
      "image/png": "[encoded data removed]",
      "text/plain": [
       "<Figure size 432x288 with 1 Axes>"
      ]
     },
     "metadata": {
      "needs_background": "light"
     },
     "output_type": "display_data"
    },
    {
     "data": {
      "image/png": "[encoded data removed]",
      "text/plain": [
       "<Figure size 432x288 with 1 Axes>"
      ]
     },
     "metadata": {
      "needs_background": "light"
     },
     "output_type": "display_data"
    },
    {
     "data": {
      "image/png": "[encoded data removed]",
      "text/plain": [
       "<Figure size 432x288 with 1 Axes>"
      ]
     },
     "metadata": {
      "needs_background": "light"
     },
     "output_type": "display_data"
    }
   ],
   "source": [
    "for feature in non_obj:\n",
    "    sns.distplot(df[feature])\n",
    "    plt.xlabel(feature)\n",
    "    plt.ylabel('Density')\n",
    "    plt.show()"
   ]
  },
  {
   "cell_type": "markdown",
   "id": "b4f811d6",
   "metadata": {},
   "source": [
    "Thus we observe that the distribution is not normal."
   ]
  },
  {
   "cell_type": "code",
   "execution_count": 73,
   "id": "7dbcc2e7",
   "metadata": {},
   "outputs": [
    {
     "data": {
      "image/png": "[encoded data removed]",
      "text/plain": [
       "<Figure size 720x720 with 4 Axes>"
      ]
     },
     "metadata": {
      "needs_background": "light"
     },
     "output_type": "display_data"
    }
   ],
   "source": [
    "df.hist(figsize=(10, 10)); #using histogram to see the distribution of the column"
   ]
  },
  {
   "cell_type": "markdown",
   "id": "caa665d9",
   "metadata": {},
   "source": [
    "Thus we observe that the distribution is not normal."
   ]
  },
  {
   "cell_type": "markdown",
   "id": "865f30f5",
   "metadata": {},
   "source": [
    "# Bivariate/Multivariate Analaysis"
   ]
  },
  {
   "cell_type": "code",
   "execution_count": 65,
   "id": "0127bac6",
   "metadata": {},
   "outputs": [
    {
     "data": {
      "text/plain": [
       "<seaborn.axisgrid.FacetGrid at 0x27626457e80>"
      ]
     },
     "execution_count": 65,
     "metadata": {},
     "output_type": "execute_result"
    },
    {
     "data": {
      "image/png": "[encoded data removed]",
      "text/plain": [
       "<Figure size 412x360 with 1 Axes>"
      ]
     },
     "metadata": {
      "needs_background": "light"
     },
     "output_type": "display_data"
    }
   ],
   "source": [
    "sns.relplot(data=df, x='tenure', y='MonthlyCharges', hue='Churn')"
   ]
  },
  {
   "cell_type": "markdown",
   "id": "c626c014",
   "metadata": {},
   "source": [
    "Thus we see that in the initail months,if customers are not satisfied with the services provided by the telecom company ,they leave \n",
    "the connection.So we need to retain those customers by giving them personalises services or free one month connection etc or money back scheme.\n",
    "If people are happy with the services provided,they keep contiuing the connection for longer period of time."
   ]
  },
  {
   "cell_type": "code",
   "execution_count": 68,
   "id": "87c0a818",
   "metadata": {},
   "outputs": [
    {
     "data": {
      "text/plain": [
       "<seaborn.axisgrid.FacetGrid at 0x27626813c40>"
      ]
     },
     "execution_count": 68,
     "metadata": {},
     "output_type": "execute_result"
    },
    {
     "data": {
      "image/png": "[encoded data removed]",
      "text/plain": [
       "<Figure size 412x360 with 1 Axes>"
      ]
     },
     "metadata": {
      "needs_background": "light"
     },
     "output_type": "display_data"
    }
   ],
   "source": [
    "sns.relplot(data=df, x='tenure', y='TotalCharges', hue='Churn')"
   ]
  },
  {
   "cell_type": "markdown",
   "id": "3d0305fd",
   "metadata": {},
   "source": [
    "THus in this plot,total charges is directly proportional to tenure,if tenure increases then total charges also increases.\n",
    "The customers are ready for high for longer period of time as they feel that services provided to them are good and satisfactory. "
   ]
  },
  {
   "cell_type": "code",
   "execution_count": 69,
   "id": "006ec216",
   "metadata": {},
   "outputs": [
    {
     "data": {
      "text/plain": [
       "<seaborn.axisgrid.FacetGrid at 0x276245ef580>"
      ]
     },
     "execution_count": 69,
     "metadata": {},
     "output_type": "execute_result"
    },
    {
     "data": {
      "image/png": "[encoded data removed]",
      "text/plain": [
       "<Figure size 360x360 with 1 Axes>"
      ]
     },
     "metadata": {
      "needs_background": "light"
     },
     "output_type": "display_data"
    }
   ],
   "source": [
    "sns.catplot(x='SeniorCitizen',y=\"tenure\",data=df)"
   ]
  },
  {
   "cell_type": "markdown",
   "id": "6dba3d47",
   "metadata": {},
   "source": [
    "Thus we see that senior citizen are subscribing to less number of days and those who are not senior citizen subscribes to larger\n",
    "number of period."
   ]
  },
  {
   "cell_type": "markdown",
   "id": "46ea38bb",
   "metadata": {},
   "source": [
    "# Outlier Detection"
   ]
  },
  {
   "cell_type": "code",
   "execution_count": 77,
   "id": "4512de80",
   "metadata": {},
   "outputs": [
    {
     "data": {
      "image/png": "[encoded data removed]",
      "text/plain": [
       "<Figure size 432x288 with 1 Axes>"
      ]
     },
     "metadata": {
      "needs_background": "light"
     },
     "output_type": "display_data"
    },
    {
     "data": {
      "image/png": "[encoded data removed]",
      "text/plain": [
       "<Figure size 432x288 with 1 Axes>"
      ]
     },
     "metadata": {
      "needs_background": "light"
     },
     "output_type": "display_data"
    },
    {
     "data": {
      "image/png": "[encoded data removed]",
      "text/plain": [
       "<Figure size 432x288 with 1 Axes>"
      ]
     },
     "metadata": {
      "needs_background": "light"
     },
     "output_type": "display_data"
    }
   ],
   "source": [
    "for feature in non_obj:\n",
    "    sns.boxplot(x ='Churn', y = feature, data = df)\n",
    "    plt.title(feature)\n",
    "    plt.show()"
   ]
  },
  {
   "cell_type": "markdown",
   "id": "e1462408",
   "metadata": {},
   "source": [
    "Thus we see that outliers are present in the total charges having the churn rate.Total charges for the customers whco are leaving the\n",
    "company are less than the charges who have paying more and at the same time,they are staying in the company may be due to fact \n",
    "that they are offered good services.\n",
    "\n",
    "Outliers are also present in the tenure column ,we observe that new customers are leaving the company as they are not happy with the \n",
    "services thats why their tenure is less."
   ]
  },
  {
   "cell_type": "markdown",
   "id": "45a609c9",
   "metadata": {},
   "source": [
    "# Encoding the categorical object "
   ]
  },
  {
   "cell_type": "code",
   "execution_count": 78,
   "id": "77907b32",
   "metadata": {},
   "outputs": [
    {
     "data": {
      "text/html": [
       "<div>\n",
       "<style scoped>\n",
       "    .dataframe tbody tr th:only-of-type {\n",
       "        vertical-align: middle;\n",
       "    }\n",
       "\n",
       "    .dataframe tbody tr th {\n",
       "        vertical-align: top;\n",
       "    }\n",
       "\n",
       "    .dataframe thead th {\n",
       "        text-align: right;\n",
       "    }\n",
       "</style>\n",
       "<table border=\"1\" class=\"dataframe\">\n",
       "  <thead>\n",
       "    <tr style=\"text-align: right;\">\n",
       "      <th></th>\n",
       "      <th>gender</th>\n",
       "      <th>SeniorCitizen</th>\n",
       "      <th>Partner</th>\n",
       "      <th>Dependents</th>\n",
       "      <th>tenure</th>\n",
       "      <th>PhoneService</th>\n",
       "      <th>MultipleLines</th>\n",
       "      <th>InternetService</th>\n",
       "      <th>OnlineSecurity</th>\n",
       "      <th>OnlineBackup</th>\n",
       "      <th>DeviceProtection</th>\n",
       "      <th>TechSupport</th>\n",
       "      <th>StreamingTV</th>\n",
       "      <th>StreamingMovies</th>\n",
       "      <th>Contract</th>\n",
       "      <th>PaperlessBilling</th>\n",
       "      <th>PaymentMethod</th>\n",
       "      <th>MonthlyCharges</th>\n",
       "      <th>TotalCharges</th>\n",
       "      <th>Churn</th>\n",
       "    </tr>\n",
       "  </thead>\n",
       "  <tbody>\n",
       "    <tr>\n",
       "      <th>0</th>\n",
       "      <td>Female</td>\n",
       "      <td>0</td>\n",
       "      <td>Yes</td>\n",
       "      <td>No</td>\n",
       "      <td>1</td>\n",
       "      <td>No</td>\n",
       "      <td>No phone service</td>\n",
       "      <td>DSL</td>\n",
       "      <td>No</td>\n",
       "      <td>Yes</td>\n",
       "      <td>No</td>\n",
       "      <td>No</td>\n",
       "      <td>No</td>\n",
       "      <td>No</td>\n",
       "      <td>Month-to-month</td>\n",
       "      <td>Yes</td>\n",
       "      <td>Electronic check</td>\n",
       "      <td>29.85</td>\n",
       "      <td>29.85</td>\n",
       "      <td>0</td>\n",
       "    </tr>\n",
       "    <tr>\n",
       "      <th>1</th>\n",
       "      <td>Male</td>\n",
       "      <td>0</td>\n",
       "      <td>No</td>\n",
       "      <td>No</td>\n",
       "      <td>34</td>\n",
       "      <td>Yes</td>\n",
       "      <td>No</td>\n",
       "      <td>DSL</td>\n",
       "      <td>Yes</td>\n",
       "      <td>No</td>\n",
       "      <td>Yes</td>\n",
       "      <td>No</td>\n",
       "      <td>No</td>\n",
       "      <td>No</td>\n",
       "      <td>One year</td>\n",
       "      <td>No</td>\n",
       "      <td>Mailed check</td>\n",
       "      <td>56.95</td>\n",
       "      <td>1889.50</td>\n",
       "      <td>0</td>\n",
       "    </tr>\n",
       "    <tr>\n",
       "      <th>2</th>\n",
       "      <td>Male</td>\n",
       "      <td>0</td>\n",
       "      <td>No</td>\n",
       "      <td>No</td>\n",
       "      <td>2</td>\n",
       "      <td>Yes</td>\n",
       "      <td>No</td>\n",
       "      <td>DSL</td>\n",
       "      <td>Yes</td>\n",
       "      <td>Yes</td>\n",
       "      <td>No</td>\n",
       "      <td>No</td>\n",
       "      <td>No</td>\n",
       "      <td>No</td>\n",
       "      <td>Month-to-month</td>\n",
       "      <td>Yes</td>\n",
       "      <td>Mailed check</td>\n",
       "      <td>53.85</td>\n",
       "      <td>108.15</td>\n",
       "      <td>1</td>\n",
       "    </tr>\n",
       "    <tr>\n",
       "      <th>3</th>\n",
       "      <td>Male</td>\n",
       "      <td>0</td>\n",
       "      <td>No</td>\n",
       "      <td>No</td>\n",
       "      <td>45</td>\n",
       "      <td>No</td>\n",
       "      <td>No phone service</td>\n",
       "      <td>DSL</td>\n",
       "      <td>Yes</td>\n",
       "      <td>No</td>\n",
       "      <td>Yes</td>\n",
       "      <td>Yes</td>\n",
       "      <td>No</td>\n",
       "      <td>No</td>\n",
       "      <td>One year</td>\n",
       "      <td>No</td>\n",
       "      <td>Bank transfer (automatic)</td>\n",
       "      <td>42.30</td>\n",
       "      <td>1840.75</td>\n",
       "      <td>0</td>\n",
       "    </tr>\n",
       "    <tr>\n",
       "      <th>4</th>\n",
       "      <td>Female</td>\n",
       "      <td>0</td>\n",
       "      <td>No</td>\n",
       "      <td>No</td>\n",
       "      <td>2</td>\n",
       "      <td>Yes</td>\n",
       "      <td>No</td>\n",
       "      <td>Fiber optic</td>\n",
       "      <td>No</td>\n",
       "      <td>No</td>\n",
       "      <td>No</td>\n",
       "      <td>No</td>\n",
       "      <td>No</td>\n",
       "      <td>No</td>\n",
       "      <td>Month-to-month</td>\n",
       "      <td>Yes</td>\n",
       "      <td>Electronic check</td>\n",
       "      <td>70.70</td>\n",
       "      <td>151.65</td>\n",
       "      <td>1</td>\n",
       "    </tr>\n",
       "  </tbody>\n",
       "</table>\n",
       "</div>"
      ],
      "text/plain": [
       "   gender SeniorCitizen Partner Dependents  tenure PhoneService     MultipleLines InternetService OnlineSecurity OnlineBackup DeviceProtection TechSupport StreamingTV StreamingMovies        Contract PaperlessBilling              PaymentMethod  MonthlyCharges  TotalCharges  Churn\n",
       "0  Female             0     Yes         No       1           No  No phone service             DSL             No          Yes               No          No          No              No  Month-to-month              Yes           Electronic check           29.85         29.85      0\n",
       "1    Male             0      No         No      34          Yes                No             DSL            Yes           No              Yes          No          No              No        One year               No               Mailed check           56.95       1889.50      0\n",
       "2    Male             0      No         No       2          Yes                No             DSL            Yes          Yes               No          No          No              No  Month-to-month              Yes               Mailed check           53.85        108.15      1\n",
       "3    Male             0      No         No      45           No  No phone service             DSL            Yes           No              Yes         Yes          No              No        One year               No  Bank transfer (automatic)           42.30       1840.75      0\n",
       "4  Female             0      No         No       2          Yes                No     Fiber optic             No           No               No          No          No              No  Month-to-month              Yes           Electronic check           70.70        151.65      1"
      ]
     },
     "execution_count": 78,
     "metadata": {},
     "output_type": "execute_result"
    }
   ],
   "source": [
    "# Label Encoder\n",
    "le = LabelEncoder()\n",
    "df[\"Churn\"] = le.fit_transform(df[\"Churn\"])\n",
    "df.head()"
   ]
  },
  {
   "cell_type": "code",
   "execution_count": 82,
   "id": "4636dce9",
   "metadata": {},
   "outputs": [],
   "source": [
    "from sklearn.preprocessing import OrdinalEncoder\n",
    "oe=OrdinalEncoder()\n",
    "for i in obj:\n",
    "    if df[i].dtypes=='object':\n",
    "        df[i]=oe.fit_transform(df[i].values.reshape(-1,1))\n",
    "    "
   ]
  },
  {
   "cell_type": "markdown",
   "id": "8656a769",
   "metadata": {},
   "source": [
    "Thus with the help of ordinal encoder,i have encoded all the object column."
   ]
  },
  {
   "cell_type": "code",
   "execution_count": 83,
   "id": "bbc47564",
   "metadata": {},
   "outputs": [
    {
     "data": {
      "text/html": [
       "<div>\n",
       "<style scoped>\n",
       "    .dataframe tbody tr th:only-of-type {\n",
       "        vertical-align: middle;\n",
       "    }\n",
       "\n",
       "    .dataframe tbody tr th {\n",
       "        vertical-align: top;\n",
       "    }\n",
       "\n",
       "    .dataframe thead th {\n",
       "        text-align: right;\n",
       "    }\n",
       "</style>\n",
       "<table border=\"1\" class=\"dataframe\">\n",
       "  <thead>\n",
       "    <tr style=\"text-align: right;\">\n",
       "      <th></th>\n",
       "      <th>gender</th>\n",
       "      <th>SeniorCitizen</th>\n",
       "      <th>Partner</th>\n",
       "      <th>Dependents</th>\n",
       "      <th>tenure</th>\n",
       "      <th>PhoneService</th>\n",
       "      <th>MultipleLines</th>\n",
       "      <th>InternetService</th>\n",
       "      <th>OnlineSecurity</th>\n",
       "      <th>OnlineBackup</th>\n",
       "      <th>DeviceProtection</th>\n",
       "      <th>TechSupport</th>\n",
       "      <th>StreamingTV</th>\n",
       "      <th>StreamingMovies</th>\n",
       "      <th>Contract</th>\n",
       "      <th>PaperlessBilling</th>\n",
       "      <th>PaymentMethod</th>\n",
       "      <th>MonthlyCharges</th>\n",
       "      <th>TotalCharges</th>\n",
       "      <th>Churn</th>\n",
       "    </tr>\n",
       "  </thead>\n",
       "  <tbody>\n",
       "    <tr>\n",
       "      <th>0</th>\n",
       "      <td>0.0</td>\n",
       "      <td>0.0</td>\n",
       "      <td>1.0</td>\n",
       "      <td>0.0</td>\n",
       "      <td>1</td>\n",
       "      <td>0.0</td>\n",
       "      <td>1.0</td>\n",
       "      <td>0.0</td>\n",
       "      <td>0.0</td>\n",
       "      <td>2.0</td>\n",
       "      <td>0.0</td>\n",
       "      <td>0.0</td>\n",
       "      <td>0.0</td>\n",
       "      <td>0.0</td>\n",
       "      <td>0.0</td>\n",
       "      <td>1.0</td>\n",
       "      <td>2.0</td>\n",
       "      <td>29.85</td>\n",
       "      <td>29.85</td>\n",
       "      <td>0</td>\n",
       "    </tr>\n",
       "    <tr>\n",
       "      <th>1</th>\n",
       "      <td>1.0</td>\n",
       "      <td>0.0</td>\n",
       "      <td>0.0</td>\n",
       "      <td>0.0</td>\n",
       "      <td>34</td>\n",
       "      <td>1.0</td>\n",
       "      <td>0.0</td>\n",
       "      <td>0.0</td>\n",
       "      <td>2.0</td>\n",
       "      <td>0.0</td>\n",
       "      <td>2.0</td>\n",
       "      <td>0.0</td>\n",
       "      <td>0.0</td>\n",
       "      <td>0.0</td>\n",
       "      <td>1.0</td>\n",
       "      <td>0.0</td>\n",
       "      <td>3.0</td>\n",
       "      <td>56.95</td>\n",
       "      <td>1889.50</td>\n",
       "      <td>0</td>\n",
       "    </tr>\n",
       "    <tr>\n",
       "      <th>2</th>\n",
       "      <td>1.0</td>\n",
       "      <td>0.0</td>\n",
       "      <td>0.0</td>\n",
       "      <td>0.0</td>\n",
       "      <td>2</td>\n",
       "      <td>1.0</td>\n",
       "      <td>0.0</td>\n",
       "      <td>0.0</td>\n",
       "      <td>2.0</td>\n",
       "      <td>2.0</td>\n",
       "      <td>0.0</td>\n",
       "      <td>0.0</td>\n",
       "      <td>0.0</td>\n",
       "      <td>0.0</td>\n",
       "      <td>0.0</td>\n",
       "      <td>1.0</td>\n",
       "      <td>3.0</td>\n",
       "      <td>53.85</td>\n",
       "      <td>108.15</td>\n",
       "      <td>1</td>\n",
       "    </tr>\n",
       "    <tr>\n",
       "      <th>3</th>\n",
       "      <td>1.0</td>\n",
       "      <td>0.0</td>\n",
       "      <td>0.0</td>\n",
       "      <td>0.0</td>\n",
       "      <td>45</td>\n",
       "      <td>0.0</td>\n",
       "      <td>1.0</td>\n",
       "      <td>0.0</td>\n",
       "      <td>2.0</td>\n",
       "      <td>0.0</td>\n",
       "      <td>2.0</td>\n",
       "      <td>2.0</td>\n",
       "      <td>0.0</td>\n",
       "      <td>0.0</td>\n",
       "      <td>1.0</td>\n",
       "      <td>0.0</td>\n",
       "      <td>0.0</td>\n",
       "      <td>42.30</td>\n",
       "      <td>1840.75</td>\n",
       "      <td>0</td>\n",
       "    </tr>\n",
       "    <tr>\n",
       "      <th>4</th>\n",
       "      <td>0.0</td>\n",
       "      <td>0.0</td>\n",
       "      <td>0.0</td>\n",
       "      <td>0.0</td>\n",
       "      <td>2</td>\n",
       "      <td>1.0</td>\n",
       "      <td>0.0</td>\n",
       "      <td>1.0</td>\n",
       "      <td>0.0</td>\n",
       "      <td>0.0</td>\n",
       "      <td>0.0</td>\n",
       "      <td>0.0</td>\n",
       "      <td>0.0</td>\n",
       "      <td>0.0</td>\n",
       "      <td>0.0</td>\n",
       "      <td>1.0</td>\n",
       "      <td>2.0</td>\n",
       "      <td>70.70</td>\n",
       "      <td>151.65</td>\n",
       "      <td>1</td>\n",
       "    </tr>\n",
       "    <tr>\n",
       "      <th>...</th>\n",
       "      <td>...</td>\n",
       "      <td>...</td>\n",
       "      <td>...</td>\n",
       "      <td>...</td>\n",
       "      <td>...</td>\n",
       "      <td>...</td>\n",
       "      <td>...</td>\n",
       "      <td>...</td>\n",
       "      <td>...</td>\n",
       "      <td>...</td>\n",
       "      <td>...</td>\n",
       "      <td>...</td>\n",
       "      <td>...</td>\n",
       "      <td>...</td>\n",
       "      <td>...</td>\n",
       "      <td>...</td>\n",
       "      <td>...</td>\n",
       "      <td>...</td>\n",
       "      <td>...</td>\n",
       "      <td>...</td>\n",
       "    </tr>\n",
       "    <tr>\n",
       "      <th>7038</th>\n",
       "      <td>1.0</td>\n",
       "      <td>0.0</td>\n",
       "      <td>1.0</td>\n",
       "      <td>1.0</td>\n",
       "      <td>24</td>\n",
       "      <td>1.0</td>\n",
       "      <td>2.0</td>\n",
       "      <td>0.0</td>\n",
       "      <td>2.0</td>\n",
       "      <td>0.0</td>\n",
       "      <td>2.0</td>\n",
       "      <td>2.0</td>\n",
       "      <td>2.0</td>\n",
       "      <td>2.0</td>\n",
       "      <td>1.0</td>\n",
       "      <td>1.0</td>\n",
       "      <td>3.0</td>\n",
       "      <td>84.80</td>\n",
       "      <td>1990.50</td>\n",
       "      <td>0</td>\n",
       "    </tr>\n",
       "    <tr>\n",
       "      <th>7039</th>\n",
       "      <td>0.0</td>\n",
       "      <td>0.0</td>\n",
       "      <td>1.0</td>\n",
       "      <td>1.0</td>\n",
       "      <td>72</td>\n",
       "      <td>1.0</td>\n",
       "      <td>2.0</td>\n",
       "      <td>1.0</td>\n",
       "      <td>0.0</td>\n",
       "      <td>2.0</td>\n",
       "      <td>2.0</td>\n",
       "      <td>0.0</td>\n",
       "      <td>2.0</td>\n",
       "      <td>2.0</td>\n",
       "      <td>1.0</td>\n",
       "      <td>1.0</td>\n",
       "      <td>1.0</td>\n",
       "      <td>103.20</td>\n",
       "      <td>7362.90</td>\n",
       "      <td>0</td>\n",
       "    </tr>\n",
       "    <tr>\n",
       "      <th>7040</th>\n",
       "      <td>0.0</td>\n",
       "      <td>0.0</td>\n",
       "      <td>1.0</td>\n",
       "      <td>1.0</td>\n",
       "      <td>11</td>\n",
       "      <td>0.0</td>\n",
       "      <td>1.0</td>\n",
       "      <td>0.0</td>\n",
       "      <td>2.0</td>\n",
       "      <td>0.0</td>\n",
       "      <td>0.0</td>\n",
       "      <td>0.0</td>\n",
       "      <td>0.0</td>\n",
       "      <td>0.0</td>\n",
       "      <td>0.0</td>\n",
       "      <td>1.0</td>\n",
       "      <td>2.0</td>\n",
       "      <td>29.60</td>\n",
       "      <td>346.45</td>\n",
       "      <td>0</td>\n",
       "    </tr>\n",
       "    <tr>\n",
       "      <th>7041</th>\n",
       "      <td>1.0</td>\n",
       "      <td>1.0</td>\n",
       "      <td>1.0</td>\n",
       "      <td>0.0</td>\n",
       "      <td>4</td>\n",
       "      <td>1.0</td>\n",
       "      <td>2.0</td>\n",
       "      <td>1.0</td>\n",
       "      <td>0.0</td>\n",
       "      <td>0.0</td>\n",
       "      <td>0.0</td>\n",
       "      <td>0.0</td>\n",
       "      <td>0.0</td>\n",
       "      <td>0.0</td>\n",
       "      <td>0.0</td>\n",
       "      <td>1.0</td>\n",
       "      <td>3.0</td>\n",
       "      <td>74.40</td>\n",
       "      <td>306.60</td>\n",
       "      <td>1</td>\n",
       "    </tr>\n",
       "    <tr>\n",
       "      <th>7042</th>\n",
       "      <td>1.0</td>\n",
       "      <td>0.0</td>\n",
       "      <td>0.0</td>\n",
       "      <td>0.0</td>\n",
       "      <td>66</td>\n",
       "      <td>1.0</td>\n",
       "      <td>0.0</td>\n",
       "      <td>1.0</td>\n",
       "      <td>2.0</td>\n",
       "      <td>0.0</td>\n",
       "      <td>2.0</td>\n",
       "      <td>2.0</td>\n",
       "      <td>2.0</td>\n",
       "      <td>2.0</td>\n",
       "      <td>2.0</td>\n",
       "      <td>1.0</td>\n",
       "      <td>0.0</td>\n",
       "      <td>105.65</td>\n",
       "      <td>6844.50</td>\n",
       "      <td>0</td>\n",
       "    </tr>\n",
       "  </tbody>\n",
       "</table>\n",
       "<p>7021 rows × 20 columns</p>\n",
       "</div>"
      ],
      "text/plain": [
       "      gender  SeniorCitizen  Partner  Dependents  tenure  PhoneService  MultipleLines  InternetService  OnlineSecurity  OnlineBackup  DeviceProtection  TechSupport  StreamingTV  StreamingMovies  Contract  PaperlessBilling  PaymentMethod  MonthlyCharges  TotalCharges  Churn\n",
       "0        0.0            0.0      1.0         0.0       1           0.0            1.0              0.0             0.0           2.0               0.0          0.0          0.0              0.0       0.0               1.0            2.0           29.85         29.85      0\n",
       "1        1.0            0.0      0.0         0.0      34           1.0            0.0              0.0             2.0           0.0               2.0          0.0          0.0              0.0       1.0               0.0            3.0           56.95       1889.50      0\n",
       "2        1.0            0.0      0.0         0.0       2           1.0            0.0              0.0             2.0           2.0               0.0          0.0          0.0              0.0       0.0               1.0            3.0           53.85        108.15      1\n",
       "3        1.0            0.0      0.0         0.0      45           0.0            1.0              0.0             2.0           0.0               2.0          2.0          0.0              0.0       1.0               0.0            0.0           42.30       1840.75      0\n",
       "4        0.0            0.0      0.0         0.0       2           1.0            0.0              1.0             0.0           0.0               0.0          0.0          0.0              0.0       0.0               1.0            2.0           70.70        151.65      1\n",
       "...      ...            ...      ...         ...     ...           ...            ...              ...             ...           ...               ...          ...          ...              ...       ...               ...            ...             ...           ...    ...\n",
       "7038     1.0            0.0      1.0         1.0      24           1.0            2.0              0.0             2.0           0.0               2.0          2.0          2.0              2.0       1.0               1.0            3.0           84.80       1990.50      0\n",
       "7039     0.0            0.0      1.0         1.0      72           1.0            2.0              1.0             0.0           2.0               2.0          0.0          2.0              2.0       1.0               1.0            1.0          103.20       7362.90      0\n",
       "7040     0.0            0.0      1.0         1.0      11           0.0            1.0              0.0             2.0           0.0               0.0          0.0          0.0              0.0       0.0               1.0            2.0           29.60        346.45      0\n",
       "7041     1.0            1.0      1.0         0.0       4           1.0            2.0              1.0             0.0           0.0               0.0          0.0          0.0              0.0       0.0               1.0            3.0           74.40        306.60      1\n",
       "7042     1.0            0.0      0.0         0.0      66           1.0            0.0              1.0             2.0           0.0               2.0          2.0          2.0              2.0       2.0               1.0            0.0          105.65       6844.50      0\n",
       "\n",
       "[7021 rows x 20 columns]"
      ]
     },
     "execution_count": 83,
     "metadata": {},
     "output_type": "execute_result"
    }
   ],
   "source": [
    "df"
   ]
  },
  {
   "cell_type": "code",
   "execution_count": 86,
   "id": "449a09ad",
   "metadata": {},
   "outputs": [
    {
     "data": {
      "text/plain": [
       "gender             -0.017381\n",
       "SeniorCitizen       1.829987\n",
       "Partner             0.061857\n",
       "Dependents          0.870322\n",
       "tenure              0.235542\n",
       "PhoneService       -2.721300\n",
       "MultipleLines       0.112816\n",
       "InternetService     0.208589\n",
       "OnlineSecurity      0.416182\n",
       "OnlineBackup        0.181338\n",
       "DeviceProtection    0.185268\n",
       "TechSupport         0.401511\n",
       "StreamingTV         0.026366\n",
       "StreamingMovies     0.012488\n",
       "Contract            0.626004\n",
       "PaperlessBilling   -0.377214\n",
       "PaymentMethod      -0.166267\n",
       "MonthlyCharges     -0.224097\n",
       "TotalCharges        0.959073\n",
       "Churn               1.068139\n",
       "dtype: float64"
      ]
     },
     "execution_count": 86,
     "metadata": {},
     "output_type": "execute_result"
    }
   ],
   "source": [
    "#Checking skewness\n",
    "df.skew()"
   ]
  },
  {
   "cell_type": "markdown",
   "id": "9f4d2d89",
   "metadata": {},
   "source": [
    "# Coorelation between target column vs Features"
   ]
  },
  {
   "cell_type": "code",
   "execution_count": 92,
   "id": "2eac014a",
   "metadata": {},
   "outputs": [
    {
     "data": {
      "image/png": "[encoded data removed]",
      "text/plain": [
       "<Figure size 720x360 with 1 Axes>"
      ]
     },
     "metadata": {
      "needs_background": "light"
     },
     "output_type": "display_data"
    }
   ],
   "source": [
    "df_corr = df.corr()\n",
    "plt.figure(figsize=(10,5))\n",
    "df_corr['Churn'].sort_values(ascending=False).drop('Churn').plot.bar()\n",
    "plt.title(\"Correlation of Features\\n\", fontsize=16)\n",
    "plt.xlabel(\"\\nFeatures List\", fontsize=14)\n",
    "plt.ylabel(\"Correlation Value\", fontsize=12)\n",
    "plt.show()"
   ]
  },
  {
   "cell_type": "markdown",
   "id": "524a30cc",
   "metadata": {},
   "source": [
    "Thus we see that target columns is depending on monthly charges.paperlessbiling,senior citizen,multiple lines.it is negatively correlated\n",
    "with contracy,tenure,onlinesecurity"
   ]
  },
  {
   "cell_type": "code",
   "execution_count": 89,
   "id": "bcb398de",
   "metadata": {},
   "outputs": [],
   "source": [
    "#apllying log transform methos:\n",
    "for col in non_obj:\n",
    "    if df.skew().loc[col]>0.55:\n",
    "        df[col]=np.log1p(df[col])    "
   ]
  },
  {
   "cell_type": "code",
   "execution_count": 93,
   "id": "fc2facd0",
   "metadata": {},
   "outputs": [],
   "source": [
    "#Removing outliers from Visibiltiy column\n",
    "df=df[np.abs(df.TotalCharges-df.TotalCharges.mean())<=(3*df.TotalCharges.std())]"
   ]
  },
  {
   "cell_type": "code",
   "execution_count": 94,
   "id": "b2bb328a",
   "metadata": {},
   "outputs": [],
   "source": [
    "df=df[np.abs(df.tenure-df.tenure.mean())<=(3*df.tenure.std())]"
   ]
  },
  {
   "cell_type": "code",
   "execution_count": 95,
   "id": "7bee7d66",
   "metadata": {},
   "outputs": [
    {
     "data": {
      "image/png": "[encoded data removed]",
      "text/plain": [
       "<Figure size 432x288 with 1 Axes>"
      ]
     },
     "metadata": {
      "needs_background": "light"
     },
     "output_type": "display_data"
    },
    {
     "data": {
      "image/png": "[encoded data removed]",
      "text/plain": [
       "<Figure size 432x288 with 1 Axes>"
      ]
     },
     "metadata": {
      "needs_background": "light"
     },
     "output_type": "display_data"
    },
    {
     "data": {
      "image/png": "[encoded data removed]",
      "text/plain": [
       "<Figure size 432x288 with 1 Axes>"
      ]
     },
     "metadata": {
      "needs_background": "light"
     },
     "output_type": "display_data"
    }
   ],
   "source": [
    "for feature in non_obj:\n",
    "    sns.boxplot(x ='Churn', y = feature, data = df)\n",
    "    plt.title(feature)\n",
    "    plt.show()"
   ]
  },
  {
   "cell_type": "markdown",
   "id": "425c38dc",
   "metadata": {},
   "source": [
    "Thus we see that outliers has been treated to an extent "
   ]
  },
  {
   "cell_type": "markdown",
   "id": "3b7887e9",
   "metadata": {},
   "source": [
    "# Splitting the dataset into 2 variables into x and y as our feature and target column "
   ]
  },
  {
   "cell_type": "code",
   "execution_count": 96,
   "id": "1ce7a37a",
   "metadata": {},
   "outputs": [],
   "source": [
    "x = df.drop('Churn', axis=1)\n",
    "y = df['Churn']"
   ]
  },
  {
   "cell_type": "markdown",
   "id": "79e96de2",
   "metadata": {},
   "source": [
    "# Resolving the class imbalance in target column"
   ]
  },
  {
   "cell_type": "code",
   "execution_count": 98,
   "id": "c2613452",
   "metadata": {},
   "outputs": [],
   "source": [
    "#  samples to make all the categorical quality values same\n",
    "from imblearn.over_sampling import SMOTE\n",
    "oversample = SMOTE()\n",
    "x, y = oversample.fit_resample(x, y)"
   ]
  },
  {
   "cell_type": "code",
   "execution_count": 99,
   "id": "cf4a4b97",
   "metadata": {},
   "outputs": [
    {
     "data": {
      "text/plain": [
       "0    5164\n",
       "1    5164\n",
       "Name: Churn, dtype: int64"
      ]
     },
     "execution_count": 99,
     "metadata": {},
     "output_type": "execute_result"
    }
   ],
   "source": [
    "y.value_counts() #validating class imbalance issue"
   ]
  },
  {
   "cell_type": "markdown",
   "id": "c723a344",
   "metadata": {},
   "source": [
    "# Feature Scaling"
   ]
  },
  {
   "cell_type": "code",
   "execution_count": 100,
   "id": "c49c9edb",
   "metadata": {},
   "outputs": [
    {
     "data": {
      "text/html": [
       "<div>\n",
       "<style scoped>\n",
       "    .dataframe tbody tr th:only-of-type {\n",
       "        vertical-align: middle;\n",
       "    }\n",
       "\n",
       "    .dataframe tbody tr th {\n",
       "        vertical-align: top;\n",
       "    }\n",
       "\n",
       "    .dataframe thead th {\n",
       "        text-align: right;\n",
       "    }\n",
       "</style>\n",
       "<table border=\"1\" class=\"dataframe\">\n",
       "  <thead>\n",
       "    <tr style=\"text-align: right;\">\n",
       "      <th></th>\n",
       "      <th>gender</th>\n",
       "      <th>SeniorCitizen</th>\n",
       "      <th>Partner</th>\n",
       "      <th>Dependents</th>\n",
       "      <th>tenure</th>\n",
       "      <th>PhoneService</th>\n",
       "      <th>MultipleLines</th>\n",
       "      <th>InternetService</th>\n",
       "      <th>OnlineSecurity</th>\n",
       "      <th>OnlineBackup</th>\n",
       "      <th>DeviceProtection</th>\n",
       "      <th>TechSupport</th>\n",
       "      <th>StreamingTV</th>\n",
       "      <th>StreamingMovies</th>\n",
       "      <th>Contract</th>\n",
       "      <th>PaperlessBilling</th>\n",
       "      <th>PaymentMethod</th>\n",
       "      <th>MonthlyCharges</th>\n",
       "      <th>TotalCharges</th>\n",
       "    </tr>\n",
       "  </thead>\n",
       "  <tbody>\n",
       "    <tr>\n",
       "      <th>0</th>\n",
       "      <td>-1.044729</td>\n",
       "      <td>-0.518457</td>\n",
       "      <td>1.175727</td>\n",
       "      <td>-0.6047</td>\n",
       "      <td>-1.105573</td>\n",
       "      <td>-3.144958</td>\n",
       "      <td>0.030225</td>\n",
       "      <td>-1.273131</td>\n",
       "      <td>-0.779640</td>\n",
       "      <td>1.364234</td>\n",
       "      <td>-0.928431</td>\n",
       "      <td>-0.780100</td>\n",
       "      <td>-1.073629</td>\n",
       "      <td>-1.074946</td>\n",
       "      <td>-0.666054</td>\n",
       "      <td>0.761012</td>\n",
       "      <td>0.354522</td>\n",
       "      <td>-1.330372</td>\n",
       "      <td>-2.075499</td>\n",
       "    </tr>\n",
       "    <tr>\n",
       "      <th>1</th>\n",
       "      <td>1.041985</td>\n",
       "      <td>-0.518457</td>\n",
       "      <td>-0.916457</td>\n",
       "      <td>-0.6047</td>\n",
       "      <td>0.266581</td>\n",
       "      <td>0.322623</td>\n",
       "      <td>-1.035624</td>\n",
       "      <td>-1.273131</td>\n",
       "      <td>1.653833</td>\n",
       "      <td>-0.923584</td>\n",
       "      <td>1.359037</td>\n",
       "      <td>-0.780100</td>\n",
       "      <td>-1.073629</td>\n",
       "      <td>-1.074946</td>\n",
       "      <td>0.641550</td>\n",
       "      <td>-1.401856</td>\n",
       "      <td>1.369734</td>\n",
       "      <td>-0.386778</td>\n",
       "      <td>0.501237</td>\n",
       "    </tr>\n",
       "    <tr>\n",
       "      <th>2</th>\n",
       "      <td>1.041985</td>\n",
       "      <td>-0.518457</td>\n",
       "      <td>-0.916457</td>\n",
       "      <td>-0.6047</td>\n",
       "      <td>-1.063993</td>\n",
       "      <td>0.322623</td>\n",
       "      <td>-1.035624</td>\n",
       "      <td>-1.273131</td>\n",
       "      <td>1.653833</td>\n",
       "      <td>1.364234</td>\n",
       "      <td>-0.928431</td>\n",
       "      <td>-0.780100</td>\n",
       "      <td>-1.073629</td>\n",
       "      <td>-1.074946</td>\n",
       "      <td>-0.666054</td>\n",
       "      <td>0.761012</td>\n",
       "      <td>1.369734</td>\n",
       "      <td>-0.494717</td>\n",
       "      <td>-1.284353</td>\n",
       "    </tr>\n",
       "    <tr>\n",
       "      <th>3</th>\n",
       "      <td>1.041985</td>\n",
       "      <td>-0.518457</td>\n",
       "      <td>-0.916457</td>\n",
       "      <td>-0.6047</td>\n",
       "      <td>0.723966</td>\n",
       "      <td>-3.144958</td>\n",
       "      <td>0.030225</td>\n",
       "      <td>-1.273131</td>\n",
       "      <td>1.653833</td>\n",
       "      <td>-0.923584</td>\n",
       "      <td>1.359037</td>\n",
       "      <td>1.639902</td>\n",
       "      <td>-1.073629</td>\n",
       "      <td>-1.074946</td>\n",
       "      <td>0.641550</td>\n",
       "      <td>-1.401856</td>\n",
       "      <td>-1.675901</td>\n",
       "      <td>-0.896876</td>\n",
       "      <td>0.484879</td>\n",
       "    </tr>\n",
       "    <tr>\n",
       "      <th>4</th>\n",
       "      <td>-1.044729</td>\n",
       "      <td>-0.518457</td>\n",
       "      <td>-0.916457</td>\n",
       "      <td>-0.6047</td>\n",
       "      <td>-1.063993</td>\n",
       "      <td>0.322623</td>\n",
       "      <td>-1.035624</td>\n",
       "      <td>0.217658</td>\n",
       "      <td>-0.779640</td>\n",
       "      <td>-0.923584</td>\n",
       "      <td>-0.928431</td>\n",
       "      <td>-0.780100</td>\n",
       "      <td>-1.073629</td>\n",
       "      <td>-1.074946</td>\n",
       "      <td>-0.666054</td>\n",
       "      <td>0.761012</td>\n",
       "      <td>0.354522</td>\n",
       "      <td>0.091983</td>\n",
       "      <td>-1.074340</td>\n",
       "    </tr>\n",
       "  </tbody>\n",
       "</table>\n",
       "</div>"
      ],
      "text/plain": [
       "     gender  SeniorCitizen   Partner  Dependents    tenure  PhoneService  MultipleLines  InternetService  OnlineSecurity  OnlineBackup  DeviceProtection  TechSupport  StreamingTV  StreamingMovies  Contract  PaperlessBilling  PaymentMethod  MonthlyCharges  TotalCharges\n",
       "0 -1.044729      -0.518457  1.175727     -0.6047 -1.105573     -3.144958       0.030225        -1.273131       -0.779640      1.364234         -0.928431    -0.780100    -1.073629        -1.074946 -0.666054          0.761012       0.354522       -1.330372     -2.075499\n",
       "1  1.041985      -0.518457 -0.916457     -0.6047  0.266581      0.322623      -1.035624        -1.273131        1.653833     -0.923584          1.359037    -0.780100    -1.073629        -1.074946  0.641550         -1.401856       1.369734       -0.386778      0.501237\n",
       "2  1.041985      -0.518457 -0.916457     -0.6047 -1.063993      0.322623      -1.035624        -1.273131        1.653833      1.364234         -0.928431    -0.780100    -1.073629        -1.074946 -0.666054          0.761012       1.369734       -0.494717     -1.284353\n",
       "3  1.041985      -0.518457 -0.916457     -0.6047  0.723966     -3.144958       0.030225        -1.273131        1.653833     -0.923584          1.359037     1.639902    -1.073629        -1.074946  0.641550         -1.401856      -1.675901       -0.896876      0.484879\n",
       "4 -1.044729      -0.518457 -0.916457     -0.6047 -1.063993      0.322623      -1.035624         0.217658       -0.779640     -0.923584         -0.928431    -0.780100    -1.073629        -1.074946 -0.666054          0.761012       0.354522        0.091983     -1.074340"
      ]
     },
     "execution_count": 100,
     "metadata": {},
     "output_type": "execute_result"
    }
   ],
   "source": [
    "scaler = StandardScaler()\n",
    "x = pd.DataFrame(scaler.fit_transform(x), columns=x.columns)\n",
    "x.head()"
   ]
  },
  {
   "cell_type": "markdown",
   "id": "1778d80a",
   "metadata": {},
   "source": [
    "# Base model:Logistic Regression"
   ]
  },
  {
   "cell_type": "code",
   "execution_count": 104,
   "id": "7e0b79b6",
   "metadata": {},
   "outputs": [],
   "source": [
    "#Importing train_test_split and accuracy_score\n",
    "from sklearn.model_selection import train_test_split\n",
    "from sklearn.metrics import accuracy_score\n",
    "from sklearn.metrics import classification_report\n",
    "from sklearn.metrics import confusion_matrix"
   ]
  },
  {
   "cell_type": "code",
   "execution_count": 105,
   "id": "8dc41163",
   "metadata": {},
   "outputs": [],
   "source": [
    "lg = LogisticRegression()\n",
    "from sklearn.model_selection import train_test_split"
   ]
  },
  {
   "cell_type": "markdown",
   "id": "ac6b7225",
   "metadata": {},
   "source": [
    "# Finding the best random state"
   ]
  },
  {
   "cell_type": "code",
   "execution_count": 106,
   "id": "9520745f",
   "metadata": {},
   "outputs": [
    {
     "name": "stdout",
     "output_type": "stream",
     "text": [
      "At Random State 39 The model performs well\n",
      "At Random state: 39\n",
      "At random state,the training accuracy  is:- 77.85039941902687\n",
      "At random state,the testing accuracy is:- 77.87996127783155\n",
      "\n",
      "\n",
      "At Random State 49 The model performs well\n",
      "At Random state: 49\n",
      "At random state,the training accuracy  is:- 77.92302106027597\n",
      "At random state,the testing accuracy is:- 77.87996127783155\n",
      "\n",
      "\n",
      "At Random State 72 The model performs well\n",
      "At Random state: 72\n",
      "At random state,the training accuracy  is:- 77.69305252965384\n",
      "At random state,the testing accuracy is:- 77.73475314617619\n",
      "\n",
      "\n",
      "At Random State 125 The model performs well\n",
      "At Random state: 125\n",
      "At random state,the training accuracy  is:- 78.03195352214959\n",
      "At random state,the testing accuracy is:- 77.97676669893514\n",
      "\n",
      "\n",
      "At Random State 129 The model performs well\n",
      "At Random state: 129\n",
      "At random state,the training accuracy  is:- 77.74146695715322\n",
      "At random state,the testing accuracy is:- 77.68635043562439\n",
      "\n",
      "\n",
      "At Random State 154 The model performs well\n",
      "At Random state: 154\n",
      "At random state,the training accuracy  is:- 77.62043088840474\n",
      "At random state,the testing accuracy is:- 77.6379477250726\n",
      "\n",
      "\n",
      "At Random State 188 The model performs well\n",
      "At Random state: 188\n",
      "At random state,the training accuracy  is:- 77.83829581215203\n",
      "At random state,the testing accuracy is:- 77.83155856727977\n",
      "\n",
      "\n",
      "At Random State 198 The model performs well\n",
      "At Random state: 198\n",
      "At random state,the training accuracy  is:- 77.80198499152748\n",
      "At random state,the testing accuracy is:- 77.83155856727977\n",
      "\n",
      "\n"
     ]
    }
   ],
   "source": [
    "for i in range(0,200):\n",
    "    x_train, x_test, y_train, y_test = train_test_split(x,y, test_size=0.2, random_state=i)\n",
    "    lg.fit(x_train,y_train)\n",
    "    pred_train=lg.predict(x_train)\n",
    "    pred_test=lg.predict(x_test)\n",
    "    if round(accuracy_score(y_train,pred_train)*100,1)==round(accuracy_score(y_test,pred_test)*100,1):\n",
    "        print(\"At Random State\",i,\"The model performs well\")\n",
    "        print(\"At Random state:\",i)\n",
    "        print(f\"At random state,the training accuracy  is:-\", accuracy_score(y_train,pred_train)*100)\n",
    "        print(f\"At random state,the testing accuracy is:-\", accuracy_score(y_test,pred_test)*100)   \n",
    "        print(\"\\n\")"
   ]
  },
  {
   "cell_type": "markdown",
   "id": "d971c76f",
   "metadata": {},
   "source": [
    "Thus we see that At Random State 39 The model performs well ,the training accuracy  is:- 77.85 and the testing accuracy is:- 77.87 which is very close to each other"
   ]
  },
  {
   "cell_type": "code",
   "execution_count": 107,
   "id": "147d7555",
   "metadata": {},
   "outputs": [],
   "source": [
    "x_train, x_test, y_train, y_test = train_test_split(x,y, test_size=0.2, random_state=39)"
   ]
  },
  {
   "cell_type": "code",
   "execution_count": 108,
   "id": "ac0d25c9",
   "metadata": {},
   "outputs": [
    {
     "name": "stdout",
     "output_type": "stream",
     "text": [
      "[[473 586]\n",
      " [434 573]]\n",
      "              precision    recall  f1-score   support\n",
      "\n",
      "           0       0.52      0.45      0.48      1059\n",
      "           1       0.49      0.57      0.53      1007\n",
      "\n",
      "    accuracy                           0.51      2066\n",
      "   macro avg       0.51      0.51      0.51      2066\n",
      "weighted avg       0.51      0.51      0.50      2066\n",
      "\n"
     ]
    }
   ],
   "source": [
    "from sklearn.metrics import classification_report,confusion_matrix\n",
    "\n",
    "print(confusion_matrix(y_test,pred_test))\n",
    "print(classification_report(y_test,pred_test))"
   ]
  },
  {
   "cell_type": "markdown",
   "id": "8795f099",
   "metadata": {},
   "source": [
    "The accuracy of the model is 51% which is less."
   ]
  },
  {
   "cell_type": "markdown",
   "id": "e96ef638",
   "metadata": {},
   "source": [
    "# Cross validation score for logistic regression"
   ]
  },
  {
   "cell_type": "code",
   "execution_count": 109,
   "id": "3ac61833",
   "metadata": {},
   "outputs": [],
   "source": [
    "pred_lg=lg.predict(x_test)\n",
    "from sklearn.model_selection import cross_val_score\n",
    "css=accuracy_score(y_test,pred_lg)"
   ]
  },
  {
   "cell_type": "code",
   "execution_count": 110,
   "id": "c2abd557",
   "metadata": {},
   "outputs": [
    {
     "name": "stdout",
     "output_type": "stream",
     "text": [
      "At cv:- 2\n",
      "cross validation score is :- 77.92408985282727\n",
      "accuracy score is :- 78.02516940948692\n",
      "\n",
      "\n",
      "At cv:- 3\n",
      "cross validation score is :- 77.8467529269036\n",
      "accuracy score is :- 78.02516940948692\n",
      "\n",
      "\n",
      "At cv:- 4\n",
      "cross validation score is :- 77.92408985282727\n",
      "accuracy score is :- 78.02516940948692\n",
      "\n",
      "\n",
      "At cv:- 5\n",
      "cross validation score is :- 77.73061840615617\n",
      "accuracy score is :- 78.02516940948692\n",
      "\n",
      "\n",
      "At cv:- 6\n",
      "cross validation score is :- 77.80815226181646\n",
      "accuracy score is :- 78.02516940948692\n",
      "\n",
      "\n",
      "At cv:- 7\n",
      "cross validation score is :- 77.74023766872051\n",
      "accuracy score is :- 78.02516940948692\n",
      "\n",
      "\n",
      "At cv:- 8\n",
      "cross validation score is :- 77.67234701781564\n",
      "accuracy score is :- 78.02516940948692\n",
      "\n",
      "\n",
      "At cv:- 9\n",
      "cross validation score is :- 77.7598043136989\n",
      "accuracy score is :- 78.02516940948692\n",
      "\n",
      "\n",
      "At cv:- 10\n",
      "cross validation score is :- 77.68216679048756\n",
      "accuracy score is :- 78.02516940948692\n",
      "\n",
      "\n",
      "At cv:- 11\n",
      "cross validation score is :- 77.70147850020055\n",
      "accuracy score is :- 78.02516940948692\n",
      "\n",
      "\n",
      "At cv:- 12\n",
      "cross validation score is :- 77.74055992221052\n",
      "accuracy score is :- 78.02516940948692\n",
      "\n",
      "\n",
      "At cv:- 13\n",
      "cross validation score is :- 77.7693489755654\n",
      "accuracy score is :- 78.02516940948692\n",
      "\n",
      "\n",
      "At cv:- 14\n",
      "cross validation score is :- 77.71151107518054\n",
      "accuracy score is :- 78.02516940948692\n",
      "\n",
      "\n"
     ]
    }
   ],
   "source": [
    "for j in range(2,15):\n",
    "    css_score=cross_val_score(lg,x,y,cv=j)\n",
    "    csc=css_score.mean()\n",
    "    print(\"At cv:-\",j)\n",
    "    print(\"cross validation score is :-\",csc*100)\n",
    "    print(\"accuracy score is :-\",css*100)\n",
    "    print('\\n')"
   ]
  },
  {
   "cell_type": "markdown",
   "id": "a630411a",
   "metadata": {},
   "source": [
    "Thus cross validation score and accuracy score are very near to each other at different cv state,so we will take cv=5. "
   ]
  },
  {
   "cell_type": "code",
   "execution_count": 111,
   "id": "6dda4d1f",
   "metadata": {},
   "outputs": [
    {
     "name": "stdout",
     "output_type": "stream",
     "text": [
      "The  cv score is :- 77.73061840615617 \n",
      " The accuracy score is  78.02516940948692\n"
     ]
    }
   ],
   "source": [
    "csc_selected=cross_val_score(lg,x,y,cv=5).mean()\n",
    "print(\"The  cv score is :-\",csc_selected *100,\"\\n The accuracy score is \",css*100)"
   ]
  },
  {
   "cell_type": "markdown",
   "id": "d3f72b05",
   "metadata": {},
   "source": [
    "Thus the accuracy score has improved to 78% from 51% whereas after cross validation,the final accuracy score is 77.73% \n",
    "as it has reduced the overfitting problem."
   ]
  },
  {
   "cell_type": "markdown",
   "id": "18470124",
   "metadata": {},
   "source": [
    "# modelling-Other models"
   ]
  },
  {
   "cell_type": "code",
   "execution_count": 113,
   "id": "3830a6a3",
   "metadata": {},
   "outputs": [
    {
     "name": "stdout",
     "output_type": "stream",
     "text": [
      "[[842 217]\n",
      " [195 812]]\n",
      "              precision    recall  f1-score   support\n",
      "\n",
      "           0       0.81      0.80      0.80      1059\n",
      "           1       0.79      0.81      0.80      1007\n",
      "\n",
      "    accuracy                           0.80      2066\n",
      "   macro avg       0.80      0.80      0.80      2066\n",
      "weighted avg       0.80      0.80      0.80      2066\n",
      "\n"
     ]
    }
   ],
   "source": [
    "\n",
    "#Model 1-Decision Tree\n",
    "\n",
    "from sklearn.metrics import classification_report\n",
    "from sklearn.tree import DecisionTreeClassifier\n",
    "\n",
    "model1=DecisionTreeClassifier(random_state=39)\n",
    "model1.fit(x_train,y_train)\n",
    "y_pred1=model1.predict(x_test)\n",
    "print(confusion_matrix(y_test,y_pred1))\n",
    "print(classification_report(y_test,y_pred1))"
   ]
  },
  {
   "cell_type": "markdown",
   "id": "2fbe9d5e",
   "metadata": {},
   "source": [
    "The accuracy score for DecisionTreeClassifier is 80% from classification report.\n",
    "\n",
    "Confusion matrix:It compares the actual target values with those predicted by the machine learning model and what kinds of errors it is making.Thus we see here in 2*2 matrix above,different values of the confusion matrix as explained below:\n",
    "\n",
    "True Positive(TP)=842,It states that 842 positive class data points were correctly classified by the model.\n",
    "\n",
    "True Negative(TN)=812,It states that 812 negative class data points were correctly classified by the model.\n",
    "\n",
    "False Positive(FP)=217,It states that 217 negative class data points were incorrectly classified as belonging to the positive class by the model.\n",
    "\n",
    "False Negative(FN)=195 ,It states that 195 positive class data points were incorrectly classified as belonging to the negative class by the model.\n",
    "\n",
    "Thus we see that its a good classifier as from our dataset it can disntinguisn relatively larger number of true positive and true negative values."
   ]
  },
  {
   "cell_type": "code",
   "execution_count": 115,
   "id": "c263d81f",
   "metadata": {},
   "outputs": [
    {
     "name": "stdout",
     "output_type": "stream",
     "text": [
      "[[928 131]\n",
      " [153 854]]\n",
      "              precision    recall  f1-score   support\n",
      "\n",
      "           0       0.86      0.88      0.87      1059\n",
      "           1       0.87      0.85      0.86      1007\n",
      "\n",
      "    accuracy                           0.86      2066\n",
      "   macro avg       0.86      0.86      0.86      2066\n",
      "weighted avg       0.86      0.86      0.86      2066\n",
      "\n"
     ]
    }
   ],
   "source": [
    "#Model 2-Random Forest\n",
    "\n",
    "from sklearn.ensemble import RandomForestClassifier\n",
    "\n",
    "model2=RandomForestClassifier(random_state=39)\n",
    "model2.fit(x_train,y_train)\n",
    "y_pred2=model2.predict(x_test)\n",
    "print(confusion_matrix(y_test,y_pred2))\n",
    "print(classification_report(y_test,y_pred2))"
   ]
  },
  {
   "cell_type": "markdown",
   "id": "8cd1f460",
   "metadata": {},
   "source": [
    "The accuracy score for RandomForestClassifier is 86% from classification report.\n",
    "\n",
    "Confusion matrix:It compares the actual target values with those predicted by the machine learning model and what kinds of errors it is making.Thus we see here in 2*2 matrix above,different values of the confusion matrix as explained below:\n",
    "\n",
    "True Positive(TP)=928,It states that 928 positive class data points were correctly classified by the model.\n",
    "\n",
    "True Negative(TN)=854,It states that 854 negative class data points were correctly classified by the model.\n",
    "\n",
    "False Positive(FP)=131,It states that 131 negative class data points were incorrectly classified as belonging to the positive class by the model.\n",
    "\n",
    "False Negative(FN)=153 ,It states that 153 positive class data points were incorrectly classified as belonging to the negative class by the model.\n",
    "\n",
    "Thus we see that its a good classifier as from our dataset it can disntinguisn relatively larger number of true positive and true negative values."
   ]
  },
  {
   "cell_type": "code",
   "execution_count": 116,
   "id": "707e8823",
   "metadata": {},
   "outputs": [
    {
     "name": "stdout",
     "output_type": "stream",
     "text": [
      "[[881 178]\n",
      " [150 857]]\n",
      "              precision    recall  f1-score   support\n",
      "\n",
      "           0       0.85      0.83      0.84      1059\n",
      "           1       0.83      0.85      0.84      1007\n",
      "\n",
      "    accuracy                           0.84      2066\n",
      "   macro avg       0.84      0.84      0.84      2066\n",
      "weighted avg       0.84      0.84      0.84      2066\n",
      "\n"
     ]
    }
   ],
   "source": [
    "#Model 3-Ada Boost\n",
    "\n",
    "from sklearn.ensemble import AdaBoostClassifier\n",
    "\n",
    "model3=AdaBoostClassifier(random_state=39)\n",
    "model3.fit(x_train,y_train)\n",
    "y_pred3=model3.predict(x_test)\n",
    "print(confusion_matrix(y_test,y_pred3))\n",
    "print(classification_report(y_test,y_pred3))"
   ]
  },
  {
   "cell_type": "markdown",
   "id": "98a26153",
   "metadata": {},
   "source": [
    "The accuracy score for AdaBoostClassifier is 84% from classification report.\n",
    "\n",
    "Confusion matrix:It compares the actual target values with those predicted by the machine learning model and what kinds of errors it is making.Thus we see here in 2*2 matrix above,different values of the confusion matrix as explained below:\n",
    "\n",
    "True Positive(TP)=881,It states that 881 positive class data points were correctly classified by the model.\n",
    "\n",
    "True Negative(TN)=857,It states that 857 negative class data points were correctly classified by the model.\n",
    "\n",
    "False Positive(FP)=178,It states that 178 negative class data points were incorrectly classified as belonging to the positive class by the model.\n",
    "\n",
    "False Negative(FN)=150 ,It states that 150 positive class data points were incorrectly classified as belonging to the negative class by the model.\n",
    "\n",
    "Thus we see that its a good classifier as from our dataset it can disntinguisn relatively larger number of true positive and true negative values."
   ]
  },
  {
   "cell_type": "code",
   "execution_count": 117,
   "id": "6f7fd2e2",
   "metadata": {},
   "outputs": [
    {
     "name": "stdout",
     "output_type": "stream",
     "text": [
      "[[894 165]\n",
      " [148 859]]\n",
      "              precision    recall  f1-score   support\n",
      "\n",
      "           0       0.86      0.84      0.85      1059\n",
      "           1       0.84      0.85      0.85      1007\n",
      "\n",
      "    accuracy                           0.85      2066\n",
      "   macro avg       0.85      0.85      0.85      2066\n",
      "weighted avg       0.85      0.85      0.85      2066\n",
      "\n"
     ]
    }
   ],
   "source": [
    "#Model 4-Gradient Boosting\n",
    "\n",
    "from sklearn.ensemble import GradientBoostingClassifier\n",
    "\n",
    "model4=GradientBoostingClassifier(random_state=39)\n",
    "model4.fit(x_train,y_train)\n",
    "y_pred4=model4.predict(x_test)\n",
    "print(confusion_matrix(y_test,y_pred4))\n",
    "print(classification_report(y_test,y_pred4))"
   ]
  },
  {
   "cell_type": "markdown",
   "id": "88734c02",
   "metadata": {},
   "source": [
    "The accuracy score for GradientBoostingClassifier is 85% from classification report.\n",
    "\n",
    "Confusion matrix:It compares the actual target values with those predicted by the machine learning model and what kinds of errors it is making.Thus we see here in 2*2 matrix above,different values of the confusion matrix as explained below:\n",
    "\n",
    "True Positive(TP)=894,It states that 894 positive class data points were correctly classified by the model.\n",
    "\n",
    "True Negative(TN)=859,It states that 859 negative class data points were correctly classified by the model.\n",
    "\n",
    "False Positive(FP)=165,It states that 165 negative class data points were incorrectly classified as belonging to the positive class by the model.\n",
    "\n",
    "False Negative(FN)=148 ,It states that 148 positive class data points were incorrectly classified as belonging to the negative class by the model.\n",
    "\n",
    "Thus we see that its a good classifier as from our dataset it can disntinguisn relatively larger number of true positive and true negative values."
   ]
  },
  {
   "cell_type": "code",
   "execution_count": 118,
   "id": "478f9e34",
   "metadata": {},
   "outputs": [
    {
     "name": "stdout",
     "output_type": "stream",
     "text": [
      "[[859 200]\n",
      " [151 856]]\n",
      "              precision    recall  f1-score   support\n",
      "\n",
      "           0       0.85      0.81      0.83      1059\n",
      "           1       0.81      0.85      0.83      1007\n",
      "\n",
      "    accuracy                           0.83      2066\n",
      "   macro avg       0.83      0.83      0.83      2066\n",
      "weighted avg       0.83      0.83      0.83      2066\n",
      "\n"
     ]
    }
   ],
   "source": [
    "#Model 5-SVM\n",
    "from sklearn.svm import SVC\n",
    "model5=SVC(random_state=39)\n",
    "model5.fit(x_train,y_train)\n",
    "y_pred5=model5.predict(x_test)\n",
    "print(confusion_matrix(y_test,y_pred5))\n",
    "print(classification_report(y_test,y_pred5))"
   ]
  },
  {
   "cell_type": "markdown",
   "id": "0dfbc3ea",
   "metadata": {},
   "source": [
    "The accuracy score for SupportVectorClassifier is 83% from classification report.\n",
    "\n",
    "Confusion matrix:It compares the actual target values with those predicted by the machine learning model and what kinds of errors it is making.Thus we see here in 2*2 matrix above,different values of the confusion matrix as explained below:\n",
    "\n",
    "True Positive(TP)=859,It states that 859 positive class data points were correctly classified by the model.\n",
    "\n",
    "True Negative(TN)=856,It states that 856 negative class data points were correctly classified by the model.\n",
    "\n",
    "False Positive(FP)=200,It states that 200 negative class data points were incorrectly classified as belonging to the positive class by the model.\n",
    "\n",
    "False Negative(FN)=151 ,It states that 151 positive class data points were incorrectly classified as belonging to the negative class by the model.\n",
    "\n",
    "Thus we see that its a good classifier as from our dataset it can disntinguisn relatively larger number of true positive and true negative values."
   ]
  },
  {
   "cell_type": "markdown",
   "id": "d08a52c9",
   "metadata": {},
   "source": [
    "Thus we see,as per the accuracy score as evaluation matrix,\n",
    "\n",
    "The accuracy score of Decision tree classifier is 80% .\n",
    "\n",
    "The accuracy score of Random Forest Classifier is 86%.\n",
    "\n",
    "The accuracy score of AdaBoost is 84%.\n",
    "\n",
    "The accuracy score of Gradient Boosting is 85%.\n",
    "\n",
    "The accuracy score of Support vector machine (SVM) is 83%.\n",
    "\n",
    "The base model(logistic regression) accuracy score is 51%.,fter applying cv ,score improves to 77%.\n",
    "\n",
    "Conclusion: We see that Random Forest Classifier,SVM Classifier,ADaBoost, Gradient Boosting classifier are producing good accuracy.\n",
    "\n",
    "Now we will check cross validation technque for overfitting for these selected models based on accuracy score as the evaluation matrix."
   ]
  },
  {
   "cell_type": "markdown",
   "id": "04f2bcb8",
   "metadata": {},
   "source": [
    "# CROSS VALIDATION For the models"
   ]
  },
  {
   "cell_type": "code",
   "execution_count": 119,
   "id": "fc020430",
   "metadata": {},
   "outputs": [
    {
     "name": "stdout",
     "output_type": "stream",
     "text": [
      "The cross validation score of Logistic Regression model is : 0.7773061840615617\n"
     ]
    }
   ],
   "source": [
    "from sklearn.model_selection import cross_val_score\n",
    "scr=cross_val_score(lg,x,y,cv=5)\n",
    "print(\"The cross validation score of Logistic Regression model is :\",scr.mean())"
   ]
  },
  {
   "cell_type": "code",
   "execution_count": 120,
   "id": "21a64ef1",
   "metadata": {},
   "outputs": [
    {
     "name": "stdout",
     "output_type": "stream",
     "text": [
      "The cross validation score of Desicion Tree Classifier is : 0.7991032020795586\n"
     ]
    }
   ],
   "source": [
    "scr=cross_val_score(model1,x,y,cv=5)\n",
    "print(\"The cross validation score of Desicion Tree Classifier is :\",scr.mean())"
   ]
  },
  {
   "cell_type": "code",
   "execution_count": 121,
   "id": "02bb8b72",
   "metadata": {},
   "outputs": [
    {
     "name": "stdout",
     "output_type": "stream",
     "text": [
      "The cross validation score of Random Forest Classifier is : 0.8478075330087733\n"
     ]
    }
   ],
   "source": [
    "scr=cross_val_score(model2,x,y,cv=5)\n",
    "print(\"The cross validation score of Random Forest Classifier is :\",scr.mean())"
   ]
  },
  {
   "cell_type": "code",
   "execution_count": 122,
   "id": "9c8cc3d2",
   "metadata": {},
   "outputs": [
    {
     "name": "stdout",
     "output_type": "stream",
     "text": [
      "The cross validation score of AdaBoost Classifier is : 0.8270839066261318\n"
     ]
    }
   ],
   "source": [
    "scr=cross_val_score(model3,x,y,cv=5)\n",
    "print(\"The cross validation score of AdaBoost Classifier is :\",scr.mean())"
   ]
  },
  {
   "cell_type": "code",
   "execution_count": 123,
   "id": "0da9f87d",
   "metadata": {},
   "outputs": [
    {
     "name": "stdout",
     "output_type": "stream",
     "text": [
      "The cross validation score of GradientBoosting Classifier is : 0.8270839066261318\n"
     ]
    }
   ],
   "source": [
    "cr=cross_val_score(model4,x,y,cv=5)\n",
    "print(\"The cross validation score of GradientBoosting Classifier is :\",scr.mean())"
   ]
  },
  {
   "cell_type": "code",
   "execution_count": 124,
   "id": "62682752",
   "metadata": {},
   "outputs": [
    {
     "name": "stdout",
     "output_type": "stream",
     "text": [
      "The cross validation score of SVM Classifier is : 0.8182706285789292\n"
     ]
    }
   ],
   "source": [
    "scr=cross_val_score(model5,x,y,cv=5)\n",
    "print(\"The cross validation score of SVM Classifier is :\",scr.mean())"
   ]
  },
  {
   "cell_type": "markdown",
   "id": "e8811d98",
   "metadata": {},
   "source": [
    "Thus we see that after doing cross validation ,we can see the scores that Cross validation score of all the models have been reduced which means that cross validation is not decreasing the accuracy, it is rather giving us a better approximation for that accuracy, including less overfitting.So as per the avobe models:\n",
    "\n",
    "Cross validation score :\n",
    "\n",
    "Logistic Regression:77%\n",
    "\n",
    "DEsicion Tree:79.9%\n",
    "\n",
    "RandomForest:84.8%\n",
    "\n",
    "AdaBoost:82.7%\n",
    "\n",
    "GradientBoosting:82.7%\n",
    "\n",
    "SVM:81.8%\n",
    "\n",
    "So I am taking Random Forest Classifier for hyperparameter tuning under GridSearch as from the confusion \n",
    "matrix also we can see less error are detected by randomforest model compare to others problem"
   ]
  },
  {
   "cell_type": "markdown",
   "id": "b7bfaeb0",
   "metadata": {},
   "source": [
    "# HYper parameter tuning"
   ]
  },
  {
   "cell_type": "code",
   "execution_count": 125,
   "id": "86342bf3",
   "metadata": {},
   "outputs": [],
   "source": [
    "from sklearn.model_selection import GridSearchCV\n",
    "#creating parameter list to pass in gridsearchcv\n",
    "parameters= {'n_estimators': [200, 500],\n",
    "    'max_features': ['auto', 'sqrt', 'log2'],\n",
    "    'max_depth' : [4,5,6,7,8],\n",
    "    'criterion' :['gini', 'entropy']\n",
    "}"
   ]
  },
  {
   "cell_type": "code",
   "execution_count": 126,
   "id": "449eea79",
   "metadata": {},
   "outputs": [
    {
     "data": {
      "text/plain": [
       "{'criterion': 'gini',\n",
       " 'max_depth': 8,\n",
       " 'max_features': 'auto',\n",
       " 'n_estimators': 200}"
      ]
     },
     "execution_count": 126,
     "metadata": {},
     "output_type": "execute_result"
    }
   ],
   "source": [
    "GCV = GridSearchCV(model2,parameters, cv= 5,scoring='accuracy')\n",
    "GCV.fit(x_train,y_train)\n",
    "GCV.best_params_ #printing the best parameter found by gridsearch cv\n",
    "#{'criterion': 'gini', 'max_depth': 8, 'max_features': 'auto', 'n_estimators': 200}"
   ]
  },
  {
   "cell_type": "code",
   "execution_count": 127,
   "id": "840922a7",
   "metadata": {},
   "outputs": [
    {
     "data": {
      "text/plain": [
       "0.8426911907066795"
      ]
     },
     "execution_count": 127,
     "metadata": {},
     "output_type": "execute_result"
    }
   ],
   "source": [
    "GCV_pred=GCV.best_estimator_.predict(x_test) #predicting with best paramter\n",
    "accuracy_score(y_test,GCV_pred) #checking final accuracy"
   ]
  },
  {
   "cell_type": "markdown",
   "id": "c0b51870",
   "metadata": {},
   "source": [
    "Thus after cross validation and then doing hypertuning with best parametrs the accuracy score\n",
    "is 84.26% which is very good and this is our best fit model."
   ]
  },
  {
   "cell_type": "markdown",
   "id": "6017668a",
   "metadata": {},
   "source": [
    "# AUC_ROC PLOT"
   ]
  },
  {
   "cell_type": "code",
   "execution_count": 129,
   "id": "0b190a95",
   "metadata": {},
   "outputs": [
    {
     "data": {
      "image/png": "[encoded data removed]",
      "text/plain": [
       "<Figure size 432x288 with 1 Axes>"
      ]
     },
     "metadata": {
      "needs_background": "light"
     },
     "output_type": "display_data"
    }
   ],
   "source": [
    "from sklearn.metrics import plot_roc_curve\n",
    "plot_roc_curve(GCV.best_estimator_,x,y)\n",
    "plt.title(\"AUC_ROC CURVE\")\n",
    "plt.show()"
   ]
  },
  {
   "cell_type": "markdown",
   "id": "336de2a8",
   "metadata": {},
   "source": [
    "OBSERVATION: So final accuracy is 92 % and and our AUC score is 94% here we can see our AUC (c-value) is far greater than 0.5 ,it is 1 which can be considered very good which means that the classifier is able to disntinguish between o and 1. So it can distinguish which employees are going to leave and who are going to stay.We can defintly employ this model."
   ]
  },
  {
   "cell_type": "markdown",
   "id": "fae622dc",
   "metadata": {},
   "source": [
    "# MODEL SAVING"
   ]
  },
  {
   "cell_type": "code",
   "execution_count": 130,
   "id": "1eed2608",
   "metadata": {},
   "outputs": [],
   "source": [
    "#saving the Random forest Model with hypertuning best parameters\n",
    "import pickle\n",
    "filename='customer_churn.pkl'\n",
    "pickle.dump(GCV.best_estimator_,open(filename,'wb'))"
   ]
  },
  {
   "cell_type": "markdown",
   "id": "d468fbad",
   "metadata": {},
   "source": [
    "# CONCLUSION:"
   ]
  },
  {
   "cell_type": "code",
   "execution_count": 131,
   "id": "92d61b2d",
   "metadata": {},
   "outputs": [
    {
     "name": "stdout",
     "output_type": "stream",
     "text": [
      "84.26911907066795\n"
     ]
    }
   ],
   "source": [
    "loaded_model=pickle.load(open('customer_churn.pkl','rb'))\n",
    "result=loaded_model.score(x_test,y_test)\n",
    "print(result*100) #getting 84 score"
   ]
  },
  {
   "cell_type": "code",
   "execution_count": 132,
   "id": "425e1165",
   "metadata": {},
   "outputs": [
    {
     "data": {
      "text/html": [
       "<div>\n",
       "<style scoped>\n",
       "    .dataframe tbody tr th:only-of-type {\n",
       "        vertical-align: middle;\n",
       "    }\n",
       "\n",
       "    .dataframe tbody tr th {\n",
       "        vertical-align: top;\n",
       "    }\n",
       "\n",
       "    .dataframe thead th {\n",
       "        text-align: right;\n",
       "    }\n",
       "</style>\n",
       "<table border=\"1\" class=\"dataframe\">\n",
       "  <thead>\n",
       "    <tr style=\"text-align: right;\">\n",
       "      <th></th>\n",
       "      <th>original</th>\n",
       "      <th>Predicted</th>\n",
       "    </tr>\n",
       "  </thead>\n",
       "  <tbody>\n",
       "    <tr>\n",
       "      <th>0</th>\n",
       "      <td>1</td>\n",
       "      <td>1</td>\n",
       "    </tr>\n",
       "    <tr>\n",
       "      <th>1</th>\n",
       "      <td>1</td>\n",
       "      <td>1</td>\n",
       "    </tr>\n",
       "    <tr>\n",
       "      <th>2</th>\n",
       "      <td>0</td>\n",
       "      <td>1</td>\n",
       "    </tr>\n",
       "    <tr>\n",
       "      <th>3</th>\n",
       "      <td>1</td>\n",
       "      <td>0</td>\n",
       "    </tr>\n",
       "    <tr>\n",
       "      <th>4</th>\n",
       "      <td>1</td>\n",
       "      <td>0</td>\n",
       "    </tr>\n",
       "    <tr>\n",
       "      <th>...</th>\n",
       "      <td>...</td>\n",
       "      <td>...</td>\n",
       "    </tr>\n",
       "    <tr>\n",
       "      <th>2061</th>\n",
       "      <td>0</td>\n",
       "      <td>0</td>\n",
       "    </tr>\n",
       "    <tr>\n",
       "      <th>2062</th>\n",
       "      <td>1</td>\n",
       "      <td>1</td>\n",
       "    </tr>\n",
       "    <tr>\n",
       "      <th>2063</th>\n",
       "      <td>0</td>\n",
       "      <td>0</td>\n",
       "    </tr>\n",
       "    <tr>\n",
       "      <th>2064</th>\n",
       "      <td>0</td>\n",
       "      <td>1</td>\n",
       "    </tr>\n",
       "    <tr>\n",
       "      <th>2065</th>\n",
       "      <td>0</td>\n",
       "      <td>1</td>\n",
       "    </tr>\n",
       "  </tbody>\n",
       "</table>\n",
       "<p>2066 rows × 2 columns</p>\n",
       "</div>"
      ],
      "text/plain": [
       "      original  Predicted\n",
       "0            1          1\n",
       "1            1          1\n",
       "2            0          1\n",
       "3            1          0\n",
       "4            1          0\n",
       "...        ...        ...\n",
       "2061         0          0\n",
       "2062         1          1\n",
       "2063         0          0\n",
       "2064         0          1\n",
       "2065         0          1\n",
       "\n",
       "[2066 rows x 2 columns]"
      ]
     },
     "execution_count": 132,
     "metadata": {},
     "output_type": "execute_result"
    }
   ],
   "source": [
    "#testing the predicted result with original dataset\n",
    "import numpy as np \n",
    "a=np.array(y_test)\n",
    "predicted=np.array(GCV.best_estimator_.predict(x_test))\n",
    "df_com=pd.DataFrame({\"original\":a,\"Predicted\":predicted},index=range(len(a)))\n",
    "df_com"
   ]
  }
 ],
 "metadata": {
  "kernelspec": {
   "display_name": "Python 3",
   "language": "python",
   "name": "python3"
  },
  "language_info": {
   "codemirror_mode": {
    "name": "ipython",
    "version": 3
   },
   "file_extension": ".py",
   "mimetype": "text/x-python",
   "name": "python",
   "nbconvert_exporter": "python",
   "pygments_lexer": "ipython3",
   "version": "3.8.8"
  }
 },
 "nbformat": 4,
 "nbformat_minor": 5
}
